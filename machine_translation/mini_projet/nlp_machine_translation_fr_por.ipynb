{
 "cells": [
  {
   "cell_type": "markdown",
   "metadata": {},
   "source": [
    "# Natural Language Processing and Application\n",
    "#### Université Mohamed V, Faculté des Sciences de Rabat \n",
    "#### Pr. Abdelhak Mahmoudi\n",
    "## Machine Translation Mini-Project\n",
    "\n",
    "\n",
    "In this notebook, we are going to carry out our Natural Language Processing project on **machine translation**.\n",
    "We are going to build a deep neural network using the **transform** \"*Attention is all you need*\" mecanism.\n",
    "We will train a \"Neural Machine Traslation\" model which will receive a text from an original language (here in French) and translate it into another language (here in Portuguese).\n",
    "\n",
    "- **Pre-processing**  Clean and convert text to sequence of integers.\n",
    "- **Model** Create models which accepts a sequence of integers as input and returns a probability distribution over possible translations.\n",
    "- **Prediction** Run the model to predict the translation corresponding to the original text."
   ]
  },
  {
   "cell_type": "markdown",
   "metadata": {},
   "source": [
    "# Loading the libraries"
   ]
  },
  {
   "cell_type": "code",
   "execution_count": 1,
   "metadata": {
    "scrolled": true
   },
   "outputs": [],
   "source": [
    "import os\n",
    "import time\n",
    "import re\n",
    "from unicodedata import normalize\n",
    "import string\n",
    "\n",
    "import pandas as pd\n",
    "import numpy as np\n",
    "import pickle\n",
    "import matplotlib.pyplot as plt\n",
    "\n",
    "import tensorflow as tf\n",
    "from tensorflow import keras\n",
    "\n",
    "from tensorflow.keras.models import Sequential\n",
    "from tensorflow.keras.layers import LSTM\n",
    "from tensorflow.keras.layers import GRU\n",
    "from tensorflow.keras.layers import Dense\n",
    "from tensorflow.keras.layers import Embedding\n",
    "from tensorflow.keras.layers import RepeatVector\n",
    "from tensorflow.keras.layers import TimeDistributed\n",
    "from tensorflow.keras.callbacks import ModelCheckpoint\n",
    "from tensorflow.keras import layers\n",
    "\n",
    "import tensorflow_datasets as tfds\n",
    "\n",
    "from tensorflow.keras.preprocessing.text import Tokenizer\n",
    "from tensorflow.keras.preprocessing.sequence import pad_sequences\n",
    "\n",
    "import sklearn\n",
    "from sklearn.model_selection import train_test_split"
   ]
  },
  {
   "cell_type": "markdown",
   "metadata": {},
   "source": [
    "### Verify the CPU\n",
    "\n",
    "This python environment has been configured with intelpython oneAPI Deep Neural Network Library for CPU optimization."
   ]
  },
  {
   "cell_type": "code",
   "execution_count": 2,
   "metadata": {},
   "outputs": [
    {
     "name": "stdout",
     "output_type": "stream",
     "text": [
      "[name: \"/device:CPU:0\"\n",
      "device_type: \"CPU\"\n",
      "memory_limit: 268435456\n",
      "locality {\n",
      "}\n",
      "incarnation: 13509344257185359327\n",
      ", name: \"/device:XLA_CPU:0\"\n",
      "device_type: \"XLA_CPU\"\n",
      "memory_limit: 17179869184\n",
      "locality {\n",
      "}\n",
      "incarnation: 17775901557357788850\n",
      "physical_device_desc: \"device: XLA_CPU device\"\n",
      "]\n"
     ]
    }
   ],
   "source": [
    "\n",
    "from tensorflow.python.client import device_lib\n",
    "print(device_lib.list_local_devices())"
   ]
  },
  {
   "cell_type": "code",
   "execution_count": 3,
   "metadata": {},
   "outputs": [
    {
     "name": "stdout",
     "output_type": "stream",
     "text": [
      "2.0.0\n"
     ]
    }
   ],
   "source": [
    "print(tf.__version__)\n"
   ]
  },
  {
   "cell_type": "markdown",
   "metadata": {},
   "source": [
    "#### Setting some parameters and hyperparameters for our model"
   ]
  },
  {
   "cell_type": "code",
   "execution_count": 4,
   "metadata": {},
   "outputs": [],
   "source": [
    "# Parameters for our model\n",
    "INPUT_COLUMN = 'feature'\n",
    "TARGET_COLUMN = 'target'\n",
    "NUM_SAMPLES = 20000\n",
    "\n",
    "BATCH_SIZE = 64  # Batch size for training.\n",
    "EPOCHS = 10  # Number of epochs to train for.\n",
    "\n",
    "\n",
    "# Global parameters\n",
    "DATA_PATH = './data_fr_por'\n",
    "train_filename='fr_por.txt'\n",
    "checkpoint_folder = 'checkpoint'\n",
    "model_folder = 'model'\n",
    "\n",
    "# Variable for data directory\n",
    "train_filenamepath = os.path.abspath(os.path.join(DATA_PATH, train_filename))\n",
    "checkpoint_path = os.path.abspath(os.path.join(DATA_PATH, checkpoint_folder))\n",
    "model_path = os.path.abspath(os.path.join(DATA_PATH, model_folder))\n"
   ]
  },
  {
   "cell_type": "markdown",
   "metadata": {},
   "source": [
    "# The dataset and text processing\n"
   ]
  },
  {
   "cell_type": "markdown",
   "metadata": {},
   "source": [
    "We start by studying the dataset that will be used to train and evaluate our model.\n",
    "For this exercise, we will use sentence pairs, the source in French and the target in Portuguese, from the Tatoeba project where people help add translations from English to other languages.\n",
    "\n",
    "Here we have collected around 50,000 sentences of our choice in French and translate them using google sheets.\n",
    "This is the link [www.manythings.org/anki](http://www.manythings.org/anki/) to some translations from English to different languages.\n",
    "\n",
    "However, it will take a long time to train the neural network with this number of sentences.\n",
    "We will therefore use this reduced data set down to 20,000 to train the model within a somewhat reasonable time frame which will allow us to have at least some very acceptable predictions, because our model which will be built with the attention mechanism will take too much time to complete a single training epoch."
   ]
  },
  {
   "cell_type": "markdown",
   "metadata": {},
   "source": [
    "## Loading the dataset\n",
    "\n",
    "The data can be found in `data_fr_por/fr_por.txt`.\n",
    "The data will be loaded with a desired number of lines per pandas DataFrame and will be shuffled again.\n",
    "Then we get the **input** and **target** columns in two variables to apply the preprocessing functions."
   ]
  },
  {
   "cell_type": "code",
   "execution_count": 5,
   "metadata": {},
   "outputs": [
    {
     "name": "stdout",
     "output_type": "stream",
     "text": [
      "                                     feature  \\\n",
      "0                                       Va !   \n",
      "1                                    Marche.   \n",
      "2                                    Bouge !   \n",
      "3                                    Salut !   \n",
      "4                                     Salut.   \n",
      "...                                      ...   \n",
      "19995   Je pensais que ça pouvait être vous.   \n",
      "19996            Nous allons être agressifs.   \n",
      "19997  J'ignore encore ce que je vais faire.   \n",
      "19998                        Tom est vivant.   \n",
      "19999     Tom déteste se lever tôt le matin.   \n",
      "\n",
      "                                     target  \n",
      "0                                      Ir !  \n",
      "1                                    Andar.  \n",
      "2                                    Mover!  \n",
      "3                                      Oi !  \n",
      "4                                       Oi.  \n",
      "...                                     ...  \n",
      "19995       Eu pensei que poderia ser você.  \n",
      "19996               Nós seremos agressivos.  \n",
      "19997           Eu não sei o que vou fazer.  \n",
      "19998                        Tom está vivo.  \n",
      "19999  Tom odeia levantar-se de manhã cedo.  \n",
      "\n",
      "[20000 rows x 2 columns]\n",
      "\n",
      "Number of sentences:  20000\n",
      "['Je suis heureuse de vous avoir invitée.'\n",
      " 'Je ne suis pas encore tout à fait prêt.'\n",
      " 'Berne est la capitale de la Suisse.' 'Soyez prudent !'\n",
      " \"Quand il est venu ici n'est pas clair.\"]\n",
      "['Estou feliz por ter convidado você.' 'Eu não estou bem pronto ainda.'\n",
      " 'Berna é a capital da Suíça.' 'Tome cuidado !'\n",
      " 'Quando ele veio aqui não é claro.']\n"
     ]
    }
   ],
   "source": [
    "# Load the dataset: sentence input and sentence output \n",
    "data_file = pd.read_csv(train_filenamepath,\n",
    "                        sep=\"\\t\",\n",
    "                        header=None,\n",
    "                        names=[INPUT_COLUMN, TARGET_COLUMN],\n",
    "                        usecols=[0,1],\n",
    "                        nrows=NUM_SAMPLES\n",
    "                       )\n",
    "\n",
    "print(data_file)\n",
    "data_file = sklearn.utils.shuffle(data_file)  # shuffle the dataset\n",
    "\n",
    "# Save the dataset selected as csv and txt file\n",
    "data_file.to_csv(DATA_PATH+'/data_file.csv', header=None, index=False)\n",
    "data_file.to_csv(DATA_PATH+'/data_file.txt', sep=\"\\t\", header=None, index=False)\n",
    "\n",
    "# load the input and target data\n",
    "input_data = data_file[INPUT_COLUMN].values\n",
    "target_data = data_file[TARGET_COLUMN].values\n",
    "\n",
    "print('\\nNumber of sentences: ', len(input_data))\n",
    "print(input_data[:5])\n",
    "print(target_data[:5])\n"
   ]
  },
  {
   "cell_type": "markdown",
   "metadata": {},
   "source": [
    "#### The following function will be used to apply data cleansing.\n"
   ]
  },
  {
   "cell_type": "code",
   "execution_count": 6,
   "metadata": {},
   "outputs": [],
   "source": [
    "# clean a list of lines\n",
    "def clean_preprocess_text(lines):\n",
    "    clean_pair = list()\n",
    "    for line in lines:\n",
    "        # normalize unicode characters\n",
    "        line = normalize('NFD', line).encode('ascii', 'ignore')\n",
    "        line = line.decode('UTF-8')\n",
    "        # convert to lowercase\n",
    "        line = line.lower()\n",
    "        # put space before and after punctuation\n",
    "        line = re.sub(r\"([?.!])\", r\" \\1 \", line)\n",
    "        # replace ' and - with a space\n",
    "        line = re.sub(r\"['-]\", r\" \", line)\n",
    "        # remove digits\n",
    "        remove_digits = str.maketrans('', '', string.digits)\n",
    "        line = line.translate(remove_digits)\n",
    "        # reduces spaces into one\n",
    "        line = re.sub(r\" +\", r\" \", line)\n",
    "        # remove space at start and end of line\n",
    "        line = line.strip()\n",
    "        # add the cleaned line in a new table which will contain all the new sentences\n",
    "        clean_pair.append(line)\n",
    "        \n",
    "    return np.array(clean_pair)\n"
   ]
  },
  {
   "cell_type": "markdown",
   "metadata": {},
   "source": [
    "#### Apply cleansing on input and target data"
   ]
  },
  {
   "cell_type": "code",
   "execution_count": 7,
   "metadata": {},
   "outputs": [
    {
     "name": "stdout",
     "output_type": "stream",
     "text": [
      "['je suis heureuse de vous avoir invitee .'\n",
      " 'je ne suis pas encore tout a fait pret .'\n",
      " 'berne est la capitale de la suisse .' 'soyez prudent !'\n",
      " 'quand il est venu ici n est pas clair .']\n",
      "['estou feliz por ter convidado voce .' 'eu nao estou bem pronto ainda .'\n",
      " 'berna e a capital da suica .' 'tome cuidado !'\n",
      " 'quando ele veio aqui nao e claro .']\n",
      "['es tu levee ?'\n",
      " 'les enfants dormaient lorsque leurs grands parents les appelerent .'\n",
      " 'etes vous certaine que vous devez partir ?'\n",
      " 'tout ce que tu as entendu est vrai .' 'tom est efficace .']\n",
      "['voce esta levantando ?'\n",
      " 'as criancas dormiam quando seus avos os chamavam .'\n",
      " 'tem certeza de que tem que sair ?' 'tudo o que voce ouviu e verdade .'\n",
      " 'tom e eficaz .']\n"
     ]
    }
   ],
   "source": [
    "# clean input and target data\n",
    "input_data = clean_preprocess_text(input_data)\n",
    "target_data = clean_preprocess_text(target_data)\n",
    "\n",
    "# save the data cleaned with pandas DataFrame\n",
    "data_cleaned = pd.DataFrame(columns=[INPUT_COLUMN, TARGET_COLUMN])\n",
    "data_cleaned[INPUT_COLUMN] = input_data\n",
    "data_cleaned[TARGET_COLUMN] = target_data\n",
    "\n",
    "data_cleaned.to_csv(DATA_PATH + '/data_cleaned.csv', header=None, index=False)\n",
    "data_cleaned.to_csv(DATA_PATH + '/data_cleaned.txt', sep=\"\\t\", header=None, index=False)\n",
    "\n",
    "# Show some sentences cleaned\n",
    "print(input_data[:5])\n",
    "print(target_data[:5])\n",
    "\n",
    "print(input_data[-5:])\n",
    "print(target_data[-5:])\n"
   ]
  },
  {
   "cell_type": "markdown",
   "metadata": {},
   "source": [
    "- By looking at the sentences, you can see that they have already been preprocessed. The punctuations were delimited by spaces. All text has been converted to lowercase."
   ]
  },
  {
   "cell_type": "markdown",
   "metadata": {},
   "source": [
    "# Tokenize the text data\n",
    "\n",
    "For a neural network to predict on text data, it first has to be turned into data it can understand. Text data like \"cat\" is a sequence of ASCII character encodings.  Since a neural network is a series of multiplication and addition operations, the input data needs to be number(s).\n",
    "\n",
    "Next, let's see how to prepare the data for our model. It's very simple and the steps are as follows:\n",
    "\n",
    "- Create vocabulary from the corpus using the tokenization of words. The `create_tokenizer()` function creates the **tokenizer** using [**Keras**](https://keras.io/preprocessing/text/#tokenizer) to get the *token for each word* in the corpus, accepting some punctuation ('.!?').\n",
    "- Calculate the maximum length of the input and output sequences. `max_length()` function\n",
    "- Convert plain text to a sequence of integers. `encode_sequences()`\n",
    "- Filling of sentences: you must fill in zeros at the end of the sequences so that all the sequences have the same length. Otherwise, we will not be able to train the model on batches"
   ]
  },
  {
   "cell_type": "code",
   "execution_count": 8,
   "metadata": {},
   "outputs": [],
   "source": [
    "# fit a tokenizer\n",
    "def create_tokenizer(lines):\n",
    "    to_exclude = '\"#$%&()*+,-/:;<=>@[\\\\]^_`{|}~\\t\\n'\n",
    "    to_tokenize = '.!?'\n",
    "    tokenizer = tf.keras.preprocessing.text.Tokenizer(filters=to_exclude)\n",
    "    tokenizer.fit_on_texts(lines)\n",
    "    return tokenizer\n",
    "\n",
    "\n",
    "# max sentence length\n",
    "def max_length(lines):\n",
    "    # add 2 to max length because sos_token(start sent) and eos_token(end sent) will be added in the sentence\n",
    "    return max(len(line.split()) for line in lines) + 2\n",
    "\n",
    "\n",
    "# encode the corpus and add paddind to max length\n",
    "def encode_sequences(corpus, tokenizer, max_length, sos_token, eos_token):\n",
    "    # encode the corpus\n",
    "    sentences = tokenizer.texts_to_sequences(corpus)\n",
    "\n",
    "    # add START and END token to the corpus\n",
    "    sentences = [sos_token + sentence + eos_token for sentence in sentences]\n",
    "\n",
    "    # Pad the sentences\n",
    "    sentences = tf.keras.preprocessing.sequence.pad_sequences(sentences,\n",
    "                                                              value=0,\n",
    "                                                              padding='post',\n",
    "                                                              maxlen=max_length\n",
    "                                                              )\n",
    "    return sentences\n"
   ]
  },
  {
   "cell_type": "code",
   "execution_count": 9,
   "metadata": {},
   "outputs": [
    {
     "name": "stdout",
     "output_type": "stream",
     "text": [
      "{'to': 1, 'this': 2, 'is': 3, 'a': 4, 'sentence': 5, 'the': 6, 'laws': 7, 'were': 8, 'very': 9, 'difficult': 10, 'enforce': 11, '.': 12, 'would': 13, 'you': 14, 'care': 15, 'come': 16, '?': 17}\n",
      "\n",
      "Sequence 1\n",
      "  Input:  this is a sentence\n",
      "  Output: [2, 3, 4, 5]\n",
      "Sequence 2\n",
      "  Input:  the laws were very difficult to enforce .\n",
      "  Output: [6, 7, 8, 9, 10, 1, 11, 12]\n",
      "Sequence 3\n",
      "  Input:  would you care to come ?\n",
      "  Output: [13, 14, 15, 1, 16, 17]\n",
      "\n",
      "After padding: \n",
      "Max length:  10\n",
      "Sequence 1\n",
      "  Input:  [8 2 3 4 5 9 0 0 0 0]\n",
      "Sequence 2\n",
      "  Input:  [ 8  6  7  8  9 10  1 11 12  9]\n",
      "Sequence 3\n",
      "  Input:  [ 8 13 14 15  1 16 17  9  0  0]\n"
     ]
    }
   ],
   "source": [
    "# Tokenizer example\n",
    "expl_sentences = [\n",
    "    'this is a sentence',\n",
    "    'the laws were very difficult to enforce .',\n",
    "    'would you care to come ?'\n",
    "]\n",
    "tokenizer_expl = create_tokenizer(expl_sentences)\n",
    "print(tokenizer_expl.word_index)\n",
    "\n",
    "print()\n",
    "for sample_i, (sent, token_sent) in enumerate(zip(expl_sentences, tokenizer_expl.texts_to_sequences(expl_sentences))):\n",
    "    print('Sequence {}'.format(sample_i + 1))\n",
    "    print('  Input:  {}'.format(sent))\n",
    "    print('  Output: {}'.format(token_sent))\n",
    "\n",
    "print()\n",
    "expl_max_length = max_length(expl_sentences)\n",
    "sos_token_expl = [expl_max_length - 2]\n",
    "eos_token_expl = [expl_max_length - 1]\n",
    "expl_sentences_encoded = encode_sequences(expl_sentences, \n",
    "                                          tokenizer_expl, \n",
    "                                          expl_max_length, \n",
    "                                          sos_token_expl, \n",
    "                                          eos_token_expl\n",
    "                                         )\n",
    "print(\"After padding: \")\n",
    "print(\"Max length: \", expl_max_length)\n",
    "for sample_i, seq_pad in enumerate(expl_sentences_encoded):\n",
    "    print('Sequence {}'.format(sample_i + 1))\n",
    "    print('  Input:  {}'.format(seq_pad))\n",
    "    "
   ]
  },
  {
   "cell_type": "markdown",
   "metadata": {},
   "source": [
    "#### Tokenize and pad the input sequences"
   ]
  },
  {
   "cell_type": "code",
   "execution_count": 10,
   "metadata": {},
   "outputs": [
    {
     "name": "stdout",
     "output_type": "stream",
     "text": [
      "Input Vocabulary Size (unique words): 9164\n",
      "Input Max Length: 63\n",
      "[[9162    2   28  408    4    8  108 2075    1 9163    0    0    0    0\n",
      "     0    0    0    0    0    0    0    0    0    0    0    0    0    0\n",
      "     0    0    0    0    0    0    0    0    0    0    0    0    0    0\n",
      "     0    0    0    0    0    0    0    0    0    0    0    0    0    0\n",
      "     0    0    0    0    0    0    0]\n",
      " [9162    2   13   28    7  125   46    3   47  368    1 9163    0    0\n",
      "     0    0    0    0    0    0    0    0    0    0    0    0    0    0\n",
      "     0    0    0    0    0    0    0    0    0    0    0    0    0    0\n",
      "     0    0    0    0    0    0    0    0    0    0    0    0    0    0\n",
      "     0    0    0    0    0    0    0]]\n",
      "[[9162   46   17    9   14   49  276    6  326    1 9163    0    0    0\n",
      "     0    0    0    0    0    0    0    0    0    0    0    0    0    0\n",
      "     0    0    0    0    0    0    0    0    0    0    0    0    0    0\n",
      "     0    0    0    0    0    0    0    0    0    0    0    0    0    0\n",
      "     0    0    0    0    0    0    0]\n",
      " [9162   15    6 2676    1 9163    0    0    0    0    0    0    0    0\n",
      "     0    0    0    0    0    0    0    0    0    0    0    0    0    0\n",
      "     0    0    0    0    0    0    0    0    0    0    0    0    0    0\n",
      "     0    0    0    0    0    0    0    0    0    0    0    0    0    0\n",
      "     0    0    0    0    0    0    0]]\n"
     ]
    }
   ],
   "source": [
    "# prepare input tokenizer\n",
    "tokenizer_inputs = create_tokenizer(input_data)\n",
    "input_vocab_size = len(tokenizer_inputs.word_index) + 3  # (+3) to add start and end token, and the 0 index\n",
    "input_max_length = max_length(input_data)\n",
    "sos_token_input = [input_vocab_size - 2]\n",
    "eos_token_input = [input_vocab_size - 1]\n",
    "\n",
    "encoder_inputs = encode_sequences(input_data, tokenizer_inputs, input_max_length, sos_token_input, eos_token_input)\n",
    "\n",
    "print('Input Vocabulary Size (unique words): %d' % input_vocab_size)\n",
    "print('Input Max Length: %d' % (input_max_length))\n",
    "\n",
    "print(encoder_inputs[:2])\n",
    "print(encoder_inputs[-2:])"
   ]
  },
  {
   "cell_type": "markdown",
   "metadata": {},
   "source": [
    "#### Tokenize and pad the outputs sequences"
   ]
  },
  {
   "cell_type": "code",
   "execution_count": 11,
   "metadata": {},
   "outputs": [
    {
     "name": "stdout",
     "output_type": "stream",
     "text": [
      "Output Vocabulary Size (unique words): 8552\n",
      "Output Max Length: 52\n",
      "[[8550   39   99   23   72  516    3    1 8551    0    0    0    0    0\n",
      "     0    0    0    0    0    0    0    0    0    0    0    0    0    0\n",
      "     0    0    0    0    0    0    0    0    0    0    0    0    0    0\n",
      "     0    0    0    0    0    0    0    0    0    0]\n",
      " [8550    2    5   39   88  224   97    1 8551    0    0    0    0    0\n",
      "     0    0    0    0    0    0    0    0    0    0    0    0    0    0\n",
      "     0    0    0    0    0    0    0    0    0    0    0    0    0    0\n",
      "     0    0    0    0    0    0    0    0    0    0]]\n",
      "[[8550   66    9    4    3  469    7  160    1 8551    0    0    0    0\n",
      "     0    0    0    0    0    0    0    0    0    0    0    0    0    0\n",
      "     0    0    0    0    0    0    0    0    0    0    0    0    0    0\n",
      "     0    0    0    0    0    0    0    0    0    0]\n",
      " [8550   11    7 2616    1 8551    0    0    0    0    0    0    0    0\n",
      "     0    0    0    0    0    0    0    0    0    0    0    0    0    0\n",
      "     0    0    0    0    0    0    0    0    0    0    0    0    0    0\n",
      "     0    0    0    0    0    0    0    0    0    0]]\n"
     ]
    }
   ],
   "source": [
    "# prepare output tokenizer\n",
    "tokenizer_outputs = create_tokenizer(target_data)\n",
    "output_vocab_size = len(tokenizer_outputs.word_index) + 3  # (+3) to add start and end token, and the 0 index\n",
    "output_max_length = max_length(target_data)\n",
    "sos_token_output = [output_vocab_size - 2]\n",
    "eos_token_output = [output_vocab_size - 1]\n",
    "    \n",
    "decoder_outputs = encode_sequences(target_data, tokenizer_outputs, output_max_length, sos_token_output, eos_token_output)\n",
    "\n",
    "print('Output Vocabulary Size (unique words): %d' % output_vocab_size)\n",
    "print('Output Max Length: %d' % (output_max_length))\n",
    "\n",
    "print(decoder_outputs[:2])\n",
    "print(decoder_outputs[-2:])"
   ]
  },
  {
   "cell_type": "markdown",
   "metadata": {},
   "source": [
    "### Creating training and validation dataset using *sklearn*\n",
    "split 80% training and 20% validation"
   ]
  },
  {
   "cell_type": "code",
   "execution_count": 13,
   "metadata": {},
   "outputs": [],
   "source": [
    "encoder_inputs, encoder_inputs_valid, decoder_outputs, decoder_outputs_valid = train_test_split(encoder_inputs, decoder_outputs, test_size=0.2)\n"
   ]
  },
  {
   "cell_type": "markdown",
   "metadata": {},
   "source": [
    "# Models\n",
    "\n",
    "In this section, we will experiment with different neural network architectures.\n",
    "We will begin by training one relatively simple architecture.\n",
    "\n",
    "- Model 1 : an Encoder-Decoder RNN\n",
    "\n",
    "After experimenting with this simple architecture, we will build a deeper architecture designed to surpass this model. Because this RNN architecture has a great limitation when working with long sequences, their ability to retain information from the first elements will be lost when new elements are incorporated into the sequence.\n",
    "\n",
    "- Model 2 : a Transformer, encoder-decoder with Attention\n",
    "\n",
    "The **Transformer**, a model architecture eschewing recurrence and instead relying entirely on an attention mechanism to draw global dependencies between input and output. The Transformer allows for significantly more parallelization … the Transformer is the first transduction model relying entirely on self-attention to compute representations of its input and output without using sequence-aligned RNNs or convolution."
   ]
  },
  {
   "cell_type": "markdown",
   "metadata": {},
   "source": [
    "#### We define the functions that will be used for the prediction of model 1"
   ]
  },
  {
   "cell_type": "code",
   "execution_count": 17,
   "metadata": {},
   "outputs": [
    {
     "name": "stdout",
     "output_type": "stream",
     "text": [
      "ou puis je acheter une chemise comme ca ?\n",
      "onde posso comprar uma camisa assim ?\n",
      "(10000, 12)\n",
      "(10000, 12, 1)\n",
      "(5, 12)\n",
      "[[  69  177    2  277   26  991  105   35    5    0    0    0]\n",
      " [  17   19   48   34   26 7976    1    0    0    0    0    0]\n",
      " [ 303   14 1155    3   50 9090    3   87  449    5    0    0]]\n",
      "[[[  69]\n",
      "  [  47]\n",
      "  [ 272]\n",
      "  [  19]\n",
      "  [ 970]\n",
      "  [ 212]\n",
      "  [   6]\n",
      "  [   0]\n",
      "  [   0]\n",
      "  [   0]\n",
      "  [   0]\n",
      "  [   0]]\n",
      "\n",
      " [[  38]\n",
      "  [ 126]\n",
      "  [  13]\n",
      "  [4404]\n",
      "  [   1]\n",
      "  [   0]\n",
      "  [   0]\n",
      "  [   0]\n",
      "  [   0]\n",
      "  [   0]\n",
      "  [   0]\n",
      "  [   0]]\n",
      "\n",
      " [[   3]\n",
      "  [ 154]\n",
      "  [   4]\n",
      "  [  21]\n",
      "  [  68]\n",
      "  [1129]\n",
      "  [  20]\n",
      "  [  29]\n",
      "  [ 493]\n",
      "  [   6]\n",
      "  [   0]\n",
      "  [   0]]]\n"
     ]
    }
   ],
   "source": [
    "# map an integer to a word\n",
    "def word_for_id_RNN(integer, tokenizer):\n",
    "    for word, index in tokenizer.word_index.items():\n",
    "        if index == integer:\n",
    "            return word\n",
    "    return None\n",
    "\n",
    "\n",
    "# predict text target\n",
    "def predict_sequence_RNN(sequences, tokenizer):\n",
    "    target = list()\n",
    "    for i in sequences:\n",
    "        word = word_for_id_RNN(i, tokenizer)\n",
    "        if word is None:\n",
    "            break\n",
    "        target.append(word)\n",
    "    return ' '.join(target)\n",
    "\n",
    "\n",
    "# This function selects the lines whose length does not exceed the given limit.\n",
    "# This function will be used for the RNN model to choose only short sentences.\n",
    "# The transformer model will work with the maximum sentence length without limit.\n",
    "LIMITE = 12\n",
    "N_ROWS = 10000\n",
    "# eos_token (max in sequence) allows to detect the end of sentence\n",
    "def limit_seq_len(sequences, limite, n_rows, eos_token):\n",
    "    out = list()\n",
    "    tab_index = list()\n",
    "    j = 0\n",
    "    for i in range(n_rows):\n",
    "        while np.argmax(sequences[j]) >= limite and j < len(sequences):\n",
    "            j += 1\n",
    "        seq = sequences[j][:limite+1]\n",
    "        seq = np.delete(seq, [0])  # delete sos_token\n",
    "        seq[seq==eos_token] = 0    # delete eos_token\n",
    "        out.append(seq)\n",
    "        tab_index.append(j)\n",
    "        j += 1\n",
    "    return np.array(out), tab_index\n",
    "\n",
    "\n",
    "X_train, x_index = limit_seq_len(encoder_inputs, LIMITE, N_ROWS, eos_token_input)\n",
    "\n",
    "# get the Y targets corresponding to the X inputs using the indexes of X\n",
    "Y_train = np.array([np.delete(y, [0]) for y in decoder_outputs[x_index][:, :LIMITE+1]])\n",
    "Y_train[Y_train==eos_token_output] = 0\n",
    "\n",
    "print(predict_sequence_RNN(X_train[0], tokenizer_inputs))\n",
    "print(predict_sequence_RNN(Y_train[0], tokenizer_outputs))\n",
    "\n",
    "Y_train = Y_train.reshape(Y_train.shape[0], Y_train.shape[1], 1)\n",
    "\n",
    "# We select a few sentences not to train to predict their translation\n",
    "X_eval, _ = limit_seq_len(encoder_inputs_valid, LIMITE, 5, eos_token_input)\n",
    "\n",
    "print(X_train.shape)\n",
    "print(Y_train.shape)\n",
    "print(X_eval.shape)\n",
    "print(X_train[:3])\n",
    "print(Y_train[:3])\n"
   ]
  },
  {
   "cell_type": "markdown",
   "metadata": {},
   "source": [
    "### Model 1: Encoder-Decoder RNN\n",
    "\n",
    "Now let's look at the encoder-decoder models.  This model is composed of an encoder and decoder. The encoder creates a matrix representation of the sentence.  The decoder takes this matrix as input and predicts the translation as output.\n",
    "\n",
    "![enc_dec_rnn.png](images/enc_dec_rnn.png)\n",
    "\n",
    "#### Encoder\n",
    "- A stack of several recurrent units (LSTM or GRU cells for better performance) where each accepts a single element of the input sequence, collects information for that element and propagates it forward.\n",
    "\n",
    "#### Encoder Vector\n",
    "- This is the final hidden state produced from the encoder part of the model.\n",
    "\n",
    "#### Decoder\n",
    "- A stack of several recurrent units where each predicts an output y_t at a time step t.\n",
    "- Each recurrent unit accepts a hidden state from the previous unit and produces and output as well as its own hidden state.\n",
    "\n",
    "Let's create an encoder-decoder model in the cell below."
   ]
  },
  {
   "cell_type": "code",
   "execution_count": 18,
   "metadata": {},
   "outputs": [
    {
     "name": "stdout",
     "output_type": "stream",
     "text": [
      "Model: \"sequential_1\"\n",
      "_________________________________________________________________\n",
      "Layer (type)                 Output Shape              Param #   \n",
      "=================================================================\n",
      "embedding_1 (Embedding)      (None, 12, 256)           2345984   \n",
      "_________________________________________________________________\n",
      "lstm_2 (LSTM)                (None, 256)               525312    \n",
      "_________________________________________________________________\n",
      "repeat_vector_1 (RepeatVecto (None, 12, 256)           0         \n",
      "_________________________________________________________________\n",
      "lstm_3 (LSTM)                (None, 12, 256)           525312    \n",
      "_________________________________________________________________\n",
      "time_distributed_1 (TimeDist (None, 12, 8552)          2197864   \n",
      "=================================================================\n",
      "Total params: 5,594,472\n",
      "Trainable params: 5,594,472\n",
      "Non-trainable params: 0\n",
      "_________________________________________________________________\n",
      "\n",
      "Train on 10000 samples\n",
      "Epoch 1/40\n",
      "10000/10000 [==============================] - 98s 10ms/sample - loss: 3.9368\n",
      "Epoch 2/40\n",
      "10000/10000 [==============================] - 74s 7ms/sample - loss: 3.0406\n",
      "Epoch 3/40\n",
      "10000/10000 [==============================] - 68s 7ms/sample - loss: 2.9055\n",
      "Epoch 4/40\n",
      "10000/10000 [==============================] - 70s 7ms/sample - loss: 2.8081\n",
      "Epoch 5/40\n",
      "10000/10000 [==============================] - 69s 7ms/sample - loss: 2.7453\n",
      "Epoch 6/40\n",
      "10000/10000 [==============================] - 70s 7ms/sample - loss: 2.6794\n",
      "Epoch 7/40\n",
      "10000/10000 [==============================] - 70s 7ms/sample - loss: 2.6258\n",
      "Epoch 8/40\n",
      "10000/10000 [==============================] - 70s 7ms/sample - loss: 2.5770\n",
      "Epoch 9/40\n",
      "10000/10000 [==============================] - 70s 7ms/sample - loss: 2.5426\n",
      "Epoch 10/40\n",
      "10000/10000 [==============================] - 70s 7ms/sample - loss: 2.5086\n",
      "Epoch 11/40\n",
      "10000/10000 [==============================] - 70s 7ms/sample - loss: 2.4710\n",
      "Epoch 12/40\n",
      "10000/10000 [==============================] - 70s 7ms/sample - loss: 2.4209\n",
      "Epoch 13/40\n",
      "10000/10000 [==============================] - 70s 7ms/sample - loss: 2.3757\n",
      "Epoch 14/40\n",
      "10000/10000 [==============================] - 70s 7ms/sample - loss: 2.3365\n",
      "Epoch 15/40\n",
      "10000/10000 [==============================] - 70s 7ms/sample - loss: 2.2955\n",
      "Epoch 16/40\n",
      "10000/10000 [==============================] - 71s 7ms/sample - loss: 2.2594\n",
      "Epoch 17/40\n",
      "10000/10000 [==============================] - 73s 7ms/sample - loss: 2.2216\n",
      "Epoch 18/40\n",
      "10000/10000 [==============================] - 70s 7ms/sample - loss: 2.1821\n",
      "Epoch 19/40\n",
      "10000/10000 [==============================] - 71s 7ms/sample - loss: 2.1365\n",
      "Epoch 20/40\n",
      "10000/10000 [==============================] - 70s 7ms/sample - loss: 2.0911\n",
      "Epoch 21/40\n",
      "10000/10000 [==============================] - 70s 7ms/sample - loss: 2.0394\n",
      "Epoch 22/40\n",
      "10000/10000 [==============================] - 70s 7ms/sample - loss: 1.9913\n",
      "Epoch 23/40\n",
      "10000/10000 [==============================] - 70s 7ms/sample - loss: 1.9451\n",
      "Epoch 24/40\n",
      "10000/10000 [==============================] - 70s 7ms/sample - loss: 1.9034\n",
      "Epoch 25/40\n",
      "10000/10000 [==============================] - 70s 7ms/sample - loss: 1.8562\n",
      "Epoch 26/40\n",
      "10000/10000 [==============================] - 70s 7ms/sample - loss: 1.8117\n",
      "Epoch 27/40\n",
      "10000/10000 [==============================] - 70s 7ms/sample - loss: 1.7703\n",
      "Epoch 28/40\n",
      "10000/10000 [==============================] - 70s 7ms/sample - loss: 1.7219\n",
      "Epoch 29/40\n",
      "10000/10000 [==============================] - 70s 7ms/sample - loss: 1.6761\n",
      "Epoch 30/40\n",
      "10000/10000 [==============================] - 72s 7ms/sample - loss: 1.6300\n",
      "Epoch 31/40\n",
      "10000/10000 [==============================] - 72s 7ms/sample - loss: 1.5893\n",
      "Epoch 32/40\n",
      "10000/10000 [==============================] - 70s 7ms/sample - loss: 1.5413\n",
      "Epoch 33/40\n",
      "10000/10000 [==============================] - 70s 7ms/sample - loss: 1.5016\n",
      "Epoch 34/40\n",
      "10000/10000 [==============================] - 70s 7ms/sample - loss: 1.4623\n",
      "Epoch 35/40\n",
      "10000/10000 [==============================] - 70s 7ms/sample - loss: 1.4190\n",
      "Epoch 36/40\n",
      "10000/10000 [==============================] - 70s 7ms/sample - loss: 1.3727\n",
      "Epoch 37/40\n",
      "10000/10000 [==============================] - 70s 7ms/sample - loss: 1.3303\n",
      "Epoch 38/40\n",
      "10000/10000 [==============================] - 70s 7ms/sample - loss: 1.2837\n",
      "Epoch 39/40\n",
      "10000/10000 [==============================] - 70s 7ms/sample - loss: 1.2460\n",
      "Epoch 40/40\n",
      "10000/10000 [==============================] - 71s 7ms/sample - loss: 1.2058\n"
     ]
    },
    {
     "data": {
      "text/plain": [
       "<tensorflow.python.keras.callbacks.History at 0x1b579d8710>"
      ]
     },
     "execution_count": 18,
     "metadata": {},
     "output_type": "execute_result"
    }
   ],
   "source": [
    "# define NMT model\n",
    "def Encoder_decoder_model_RNN(src_vocab, tar_vocab, src_length, tar_length, n_units):\n",
    "    model = keras.models.Sequential()\n",
    "    model.add(keras.layers.Embedding(src_vocab, n_units, input_length=src_length, mask_zero=True))\n",
    "    model.add(keras.layers.LSTM(n_units))\n",
    "    model.add(keras.layers.RepeatVector(tar_length))\n",
    "    model.add(keras.layers.LSTM(n_units, return_sequences=True))\n",
    "    model.add(keras.layers.TimeDistributed(keras.layers.Dense(tar_vocab, activation='softmax')))\n",
    "    \n",
    "    model.compile(loss='sparse_categorical_crossentropy',\n",
    "                  optimizer='adam')\n",
    "    return model\n",
    "    \n",
    "\n",
    "# Train the neural network\n",
    "enc_dec_rnn_model = Encoder_decoder_model_RNN(input_vocab_size, \n",
    "                                              output_vocab_size, \n",
    "                                              LIMITE, \n",
    "                                              LIMITE,\n",
    "                                              256\n",
    "                                             )\n",
    "enc_dec_rnn_model.summary()\n",
    "print()\n",
    "\n",
    "enc_dec_rnn_model.fit(X_train, \n",
    "                      Y_train, \n",
    "                      batch_size=64, \n",
    "                      epochs=40\n",
    "                     )"
   ]
  },
  {
   "cell_type": "markdown",
   "metadata": {},
   "source": [
    "##### Make prediction for RNN model"
   ]
  },
  {
   "cell_type": "code",
   "execution_count": 19,
   "metadata": {},
   "outputs": [
    {
     "name": "stdout",
     "output_type": "stream",
     "text": [
      "in :  nous etions des ennemis .\n",
      "out :  nos estavamos todos .\n",
      "\n",
      "in :  tom a ete embarrasse .\n",
      "out :  tom foi marie .\n",
      "\n",
      "in :  ce n est pas la fin de l histoire .\n",
      "out :  nao e e no problema .\n",
      "\n",
      "in :  j ai essaye .\n",
      "out :  eu tentei .\n",
      "\n",
      "in :  laisse moi t aider !\n",
      "out :  me deixar ir !\n",
      "\n"
     ]
    }
   ],
   "source": [
    "# Make prediction\n",
    "for seq_input in X_eval:\n",
    "    seq_input = seq_input.reshape(1, seq_input.shape[0])\n",
    "    #print(seq_input, \" --- \", seq_input.shape)\n",
    "    \n",
    "    # predict\n",
    "    prediction = enc_dec_rnn_model.predict(seq_input, verbose=0)[0]\n",
    "    #print(\"prediction: \", prediction)\n",
    "    seq_predicted = tf.squeeze([tf.cast(tf.argmax(vector), tf.int32) for vector in prediction])\n",
    "    #print(\"seq_predicted: \", seq_predicted)\n",
    "    \n",
    "    seq_input_text = predict_sequence_RNN(tf.squeeze((seq_input)), tokenizer_inputs)\n",
    "    print(\"in : \", seq_input_text)\n",
    "    prediction_text = predict_sequence_RNN(seq_predicted, tokenizer_outputs)\n",
    "    print(\"out : \", prediction_text)\n",
    "    print()"
   ]
  },
  {
   "cell_type": "markdown",
   "metadata": {},
   "source": [
    "# Model 2: Transformer\n",
    "\n",
    "## Attention is all you need: Discovering the Transformer model\n",
    "\n",
    "### Neural machine traslation using a Transformer model\n",
    "\n",
    "This paper was a more advanced step in the use of the attention mechanism being the main basis for a model called Transformer.\n",
    "\n",
    "Attention is all you need: https://arxiv.org/pdf/1706.03762.pdf\n",
    "\n",
    "We will describe the components of this model, analyze their operation and build a simple model that we will apply to our Machine Translation problem."
   ]
  },
  {
   "cell_type": "markdown",
   "metadata": {},
   "source": [
    "![transformer.png](images/transformer.png)\n",
    "\n",
    "## Why we need Transformer?\n",
    "\n",
    "In sequence-to-sequence treatment problems such as the neural machine translation, the initial proposals were based on the use of RNNs in an encoder-decoder architecture. These architectures presented a great limitation when working with long sequences, their ability to retain information from the first elements was lost when new elements were incorporated into the sequence. In the encoder, the hidden state in every step is associated with a certain word in the input sentence, the more recent. Therefore, if the decoder only accesses the last hidden state of the decoder, it will lose relevant information about the first elements of the sequence. Then to deal with this limitation, a new concept were introduced **the attention mechanism**.\n",
    "\n",
    "Instead of paying attention to the last state of the encoder as is usually done with the RNNs, in each step of the decoder we look at all the states of the encoder, being able to access information about all the elements of the input sequence. This is what attention does, it extracts information from the whole sequence, a weighted sum of all the past encoder states. This allows the decoder to assign greater weight or importance to a certain element of the input for each element of the output. Learning in every step to focus in the right element of the input to predict the next output element.\n",
    "\n",
    "But this approach continues to have an important limitation, each sequence must be treated one at a time. Both the encoder and the decoder have to wait till the completion of t-1 steps to process at 't'th step. So when dealing with huge corpus **it is very time consuming and computationally inefficient**."
   ]
  },
  {
   "cell_type": "markdown",
   "metadata": {},
   "source": [
    "# Create the batch data generator"
   ]
  },
  {
   "cell_type": "markdown",
   "metadata": {},
   "source": [
    "- Create a batch data generator: we want to train the model on batches, group of sentences, so we need to create a Dataset using the tf.data library and the function batch_on_slices on the input and output sequences."
   ]
  },
  {
   "cell_type": "code",
   "execution_count": 20,
   "metadata": {},
   "outputs": [],
   "source": [
    "# Define a dataset for training\n",
    "train_dataset = tf.data.Dataset.from_tensor_slices(\n",
    "    (encoder_inputs, decoder_outputs))\n",
    "train_dataset = train_dataset.shuffle(len(encoder_inputs), reshuffle_each_iteration=True).batch(\n",
    "    BATCH_SIZE, drop_remainder=True)\n",
    "\n",
    "train_dataset = train_dataset.prefetch(tf.data.experimental.AUTOTUNE)"
   ]
  },
  {
   "cell_type": "code",
   "execution_count": 21,
   "metadata": {},
   "outputs": [],
   "source": [
    "# Define a dataset for validation\n",
    "valid_dataset = tf.data.Dataset.from_tensor_slices(\n",
    "    (encoder_inputs_valid, decoder_outputs_valid))\n",
    "valid_dataset = valid_dataset.shuffle(len(encoder_inputs_valid), reshuffle_each_iteration=True).batch(\n",
    "    BATCH_SIZE, drop_remainder=True)\n",
    "\n",
    "valid_dataset = valid_dataset.prefetch(tf.data.experimental.AUTOTUNE)"
   ]
  },
  {
   "cell_type": "markdown",
   "metadata": {},
   "source": [
    "# Building a Transformer"
   ]
  },
  {
   "cell_type": "markdown",
   "metadata": {},
   "source": [
    "## What is Transformer?\n",
    "*In this work we propose the Transformer, a model architecture eschewing recurrence and instead relying entirely on an attention mechanism to draw global dependencies between input and output. The Transformer allows for significantly more parallelization … the Transformer is the first transduction model relying entirely on self-attention to compute representations of its input and output without using sequence-aligned RNNs or convolution.*\n",
    "\n",
    "\"Attention is all you need\" paper\n",
    "\n",
    "The Transformer model extract  features for each word using a self-attention mechanism to figure out how important all the other words in the sentence are w.r.t. to the aforementioned word. And no recurrent units are used to obtain this features, they are just weighted sum and activations, so they can be very parallelizable and efficient.\n",
    "\n",
    "But We will dive deeper to understand what all this means."
   ]
  },
  {
   "cell_type": "markdown",
   "metadata": {},
   "source": [
    "# Self-attention: the fundamental operation\n",
    "\n",
    "*Self-attention is a sequence-to-sequence operation: a sequence of vectors goes in, and a sequence of vectors comes out. Let's call the input vectors 𝐱1,𝐱2,…𝐱t and the corresponding output vectors 𝐲1,𝐲2,…,𝐲t. The vectors all have dimension k. To produce output vector 𝐲i, the self attention operation simply takes a weighted average over all the input vectors, the simplest option is the dot product.*\n",
    "\n",
    "**Transformers from scratch by Peter Bloem**\n",
    "\n",
    "In the self-attention mechanism of our model we need to introduce three elements: **Queries**, **Values** and **Keys**\n"
   ]
  },
  {
   "cell_type": "markdown",
   "metadata": {},
   "source": [
    "## Queries, Keys and Values\n",
    "Every input vector is used in three different ways in the self-attention mechanism: the Query, the Key and the Value. In every role, it is compared to the others vectors to get its own output yi (Query), to get the j-th output yj (Key) and to compute each output vector once the weights have been established (Value).\n",
    "\n",
    "To obtain this roles, we need three weight matrices of dimensions k x k and compute three linear transformation for each xi:\n",
    "\n",
    "![query_key_value.png](images/query_key_value.png)\n",
    "![K_Q_V.png](images/K_Q_V.png)\n",
    "\n",
    "These three matrices are usually known as K, Q and V, three learnable weight layers that are applied to the same encoded input. Consequently, as each of these three matrices come from the same input, we can apply the attention mechanism of the input vector with itself, a \"self-attention\".\n"
   ]
  },
  {
   "cell_type": "markdown",
   "metadata": {},
   "source": [
    "## Scale dot-product Attention\n",
    "\n",
    "*The input consists of queries and keys of dimension dk, and values of dimension dv. We compute the dot products of the query with all keys, divide each by the square root of dk, and apply a softmax function to obtain the weights on the values.*\n",
    "\n",
    "\"Attention is all you need\" paper\n",
    "\n",
    "Then we use the Q, K and V matrices to calculate the attention scores. **The scores measure how much focus to place on other places or words of the input sequence w.r.t a word at a certain position**. That is, the dot product of the query vector with the key vector of the respective word we're scoring. So, for position 1 we calculate the dot product (.) of q1 and k1, then q1 . k2, q1 . k3,… \n",
    "\n",
    "Next we apply the \"scaled\" factor to have more stable gradients. The softmax function can not work properly with large values, resulting in vanishing the gradient and slow down the learning. After \"softmaxing\" we multiply by the Value matrix to keep the values of the words we want to focus on and minimizing or removing the values for the irrelevant words (its value in V matrix should be very small).\n",
    "\n",
    "The formula for these operations is:\n",
    "\n",
    "$Attention(Q, K, V ) = \\text{softmax}\\left(\\dfrac{QK^T}{\\sqrt{d_k}}\\right)V $\n"
   ]
  },
  {
   "cell_type": "code",
   "execution_count": 22,
   "metadata": {},
   "outputs": [],
   "source": [
    "def scaled_dot_product_attention(queries, keys, values, mask):\n",
    "    # Calculate the dot product, QK_transpose\n",
    "    product = tf.matmul(queries, keys, transpose_b=True)\n",
    "    # Get the scale factor\n",
    "    keys_dim = tf.cast(tf.shape(keys)[-1], tf.float32)\n",
    "    # Apply the scale factor to the dot product\n",
    "    scaled_product = product / tf.math.sqrt(keys_dim)\n",
    "    # Apply masking when it is requiered\n",
    "    if mask is not None:\n",
    "        scaled_product += (mask * -1e9)\n",
    "    # dot product with Values\n",
    "    attention = tf.matmul(tf.nn.softmax(scaled_product, axis=-1), values)\n",
    "    \n",
    "    return attention"
   ]
  },
  {
   "cell_type": "markdown",
   "metadata": {},
   "source": [
    "## Multi-Head Attention\n",
    "\n",
    "In the previous description the attention scores are focused on the whole sentence at a time, this would produce the same results even if two sentences contain the same words in a different order. Instead, we would like to attend to different segments of the words. We can give the self attention greater power of discrimination, **by combining several self attention heads**, dividing the words vectors into a fixed number (h, number of heads) of chunks, and then self-attention is applied on the corresponding chunks, using Q, K and V sub-matrices. \n",
    "\n",
    "This produce h different output matrices of scores.\n",
    "\n",
    "\n",
    "![Scaled_Dot_Product_Attention.png](images/dot_product_multihead.png)\n",
    "\n",
    "\n",
    "But the next layer (the Feed-Forward layer) is expecting just one matrix, a vector for each word, so after calculating the dot product of every head, we concat the output matrices and multiply them by an additional weights matrix $W_O$. This final matrix captures information from all the attention heads.\n",
    "\n",
    "$MultihHead(Q, K, V ) = \\text{Concat}(head_1,...,head_n)W^O$\n",
    "\n",
    "where $head_i=Attention(QW_i^Q,QW_i^K,QW_i^V)$ and $i$ is the head index.\n"
   ]
  },
  {
   "cell_type": "code",
   "execution_count": 23,
   "metadata": {},
   "outputs": [],
   "source": [
    "class MultiHeadAttention(layers.Layer):\n",
    "    \n",
    "    def __init__(self, n_heads):\n",
    "        super(MultiHeadAttention, self).__init__()\n",
    "        self.n_heads = n_heads\n",
    "        \n",
    "    def build(self, input_shape):\n",
    "        self.d_model = input_shape[-1]\n",
    "        assert self.d_model % self.n_heads == 0\n",
    "        # Calculate the dimension of every head or projection\n",
    "        self.d_head = self.d_model // self.n_heads\n",
    "        # Set the weight matrices for Q, K and V\n",
    "        self.query_lin = layers.Dense(units=self.d_model)\n",
    "        self.key_lin = layers.Dense(units=self.d_model)\n",
    "        self.value_lin = layers.Dense(units=self.d_model)\n",
    "        # Set the weight matrix for the output of the multi-head attention W0\n",
    "        self.final_lin = layers.Dense(units=self.d_model)\n",
    "        \n",
    "    def split_proj(self, inputs, batch_size): # inputs: (batch_size, seq_length, d_model)\n",
    "        # Set the dimension of the projections\n",
    "        shape = (batch_size,\n",
    "                 -1,\n",
    "                 self.n_heads,\n",
    "                 self.d_head)\n",
    "        # Split the input vectors\n",
    "        splited_inputs = tf.reshape(inputs, shape=shape) # (batch_size, seq_length, nb_proj, d_proj)\n",
    "        return tf.transpose(splited_inputs, perm=[0, 2, 1, 3]) # (batch_size, nb_proj, seq_length, d_proj)\n",
    "    \n",
    "    def call(self, queries, keys, values, mask):\n",
    "        # Get the batch size\n",
    "        batch_size = tf.shape(queries)[0]\n",
    "        # Set the Query, Key and Value matrices\n",
    "        queries = self.query_lin(queries)\n",
    "        keys = self.key_lin(keys)\n",
    "        values = self.value_lin(values)\n",
    "        # Split Q, K y V between the heads or projections\n",
    "        queries = self.split_proj(queries, batch_size)\n",
    "        keys = self.split_proj(keys, batch_size)\n",
    "        values = self.split_proj(values, batch_size)\n",
    "        # Apply the scaled dot product\n",
    "        attention = scaled_dot_product_attention(queries, keys, values, mask)\n",
    "        # Get the attention scores\n",
    "        attention = tf.transpose(attention, perm=[0, 2, 1, 3])\n",
    "        # Concat the h heads or projections\n",
    "        concat_attention = tf.reshape(attention,\n",
    "                                      shape=(batch_size, -1, self.d_model))\n",
    "        # Apply W0 to get the output of the multi-head attention\n",
    "        outputs = self.final_lin(concat_attention)\n",
    "        \n",
    "        return outputs"
   ]
  },
  {
   "cell_type": "markdown",
   "metadata": {},
   "source": [
    "# Positional Encoding\n",
    "\n",
    "We mentioned briefly that the order of the words in the sentence is an issue to solve in this model, because the network and the self-attention mechanism is permutation invariant. If we shuffle up the words in the input sentence, we get the same solutions. We need to create a representation of the position of the word in the sentence and add it to the word embedding.\n",
    "\n",
    "*To this end, we add \"positional encodings\" to the input embeddings at the bottoms of the encoder and decoder stacks. The positional encodings have the same dimension as the embeddings, so that the two can be summed. There are many choices of positional encodings.*\n",
    "\n",
    "\"Attention is all you need\" paper\n",
    "\n",
    "![pos_encoding.png](images/pos_encoding.png)\n",
    "\n",
    "So, we apply a function to map the position in the sentence to real valued vector. The network will learn how to use this information. Another approach would be to use a position embedding, similar to word embedding, coding every known position with a vector. It would requiere sentences of all accepted positions during training but positional encoding allow the model to extrapolate to sequence lengths longer than the ones encountered.\n",
    "\n",
    "In the paper a sinusoidal function is applied:"
   ]
  },
  {
   "cell_type": "markdown",
   "metadata": {},
   "source": [
    "$PE_{(pos,2i)} =\\sin(pos/10000^{2i/dmodel})$\n",
    "\n",
    "$PE_{(pos,2i+1)} =\\cos(pos/10000^{2i/dmodel})$"
   ]
  },
  {
   "cell_type": "code",
   "execution_count": 24,
   "metadata": {},
   "outputs": [],
   "source": [
    "class PositionalEncoding(layers.Layer):\n",
    "\n",
    "    def __init__(self):\n",
    "        super(PositionalEncoding, self).__init__()\n",
    "    \n",
    "    def get_angles(self, pos, i, d_model): # pos: (seq_length, 1) i: (1, d_model)\n",
    "        angles = 1 / np.power(10000., (2*(i//2)) / np.float32(d_model))\n",
    "        return pos * angles # (seq_length, d_model)\n",
    "\n",
    "    def call(self, inputs):\n",
    "        # input shape batch_size, seq_length, d_model\n",
    "        seq_length = inputs.shape.as_list()[-2]\n",
    "        d_model = inputs.shape.as_list()[-1]\n",
    "        # Calculate the angles given the input\n",
    "        angles = self.get_angles(np.arange(seq_length)[:, np.newaxis],\n",
    "                                 np.arange(d_model)[np.newaxis, :],\n",
    "                                 d_model)\n",
    "        # Calculate the positional encodings\n",
    "        angles[:, 0::2] = np.sin(angles[:, 0::2])\n",
    "        angles[:, 1::2] = np.cos(angles[:, 1::2])\n",
    "        # Expand the encodings with a new dimension\n",
    "        pos_encoding = angles[np.newaxis, ...]\n",
    "        \n",
    "        return inputs + tf.cast(pos_encoding, tf.float32)"
   ]
  },
  {
   "cell_type": "markdown",
   "metadata": {},
   "source": [
    "# The Encoder\n",
    "\n",
    "Now that all the main pieces of the model have been described we can introduce the encoder components. \n",
    "\n",
    "- Positional encoding: Add the position encoding to the input embedding (our input words are transformed to embedding vectors). *The same weight matrix is shared between the two embedding layers (encoder and decoder) and the pre-softmax linear transformation. In the embedding layers, we multiply those weights by square root of the model dimension* [1], ${\\sqrt{d_{model}}}$.\n",
    "\n",
    "- N = 6, identical layers, containing two sub-layers: a **multi-head self-attention mechanism**, and a **fully connected feed-forward network**. This FC layer is applied to each position separately and identically and consists of two linear transformations with a ReLU activation in between. But it is applied position-wise to the input, which means that the same neural network is applied to every single \"token\" vector belonging to the sentence sequence.\n",
    "\n",
    "$$FFN(x)= max(0,xW_1+b_1)W_2+b_2$$\n",
    "\n",
    "- There is a residual connection around each sub-layer (attention and FC network) followed by a layer normalization.\n",
    "\n",
    "*Normalization and residual connections are standard tricks used to help deep neural networks train faster and more accurately. The layer normalization is applied over the embedding dimension only.*\n",
    "\n",
    "**Peter Bloem, \"Transformers from scratch\"**\n",
    "\n",
    "The next figure will show the components detailed:\n",
    "\n",
    "![encoder.PNG](images/encoder.png)\n",
    "\n",
    "Keep in mind that **only the vector from the last layer (6-th) is sent to the decoder**."
   ]
  },
  {
   "cell_type": "code",
   "execution_count": 25,
   "metadata": {},
   "outputs": [],
   "source": [
    "class EncoderLayer(layers.Layer):\n",
    "    \n",
    "    def __init__(self, FFN_units, n_heads, dropout_rate):\n",
    "        super(EncoderLayer, self).__init__()\n",
    "        # Hidden units of the feed forward component\n",
    "        self.FFN_units = FFN_units\n",
    "        # Set the number of projectios or heads\n",
    "        self.n_heads = n_heads\n",
    "        # Dropout rate\n",
    "        self.dropout_rate = dropout_rate\n",
    "    \n",
    "    def build(self, input_shape):\n",
    "        self.d_model = input_shape[-1]\n",
    "        # Build the multihead layer\n",
    "        self.multi_head_attention = MultiHeadAttention(self.n_heads)\n",
    "        self.dropout_1 = layers.Dropout(rate=self.dropout_rate)\n",
    "        # Layer Normalization\n",
    "        self.norm_1 = layers.LayerNormalization(epsilon=1e-6)\n",
    "        # Fully connected feed forward layer\n",
    "        self.ffn1_relu = layers.Dense(units=self.FFN_units, activation=\"relu\")\n",
    "        self.ffn2 = layers.Dense(units=self.d_model)\n",
    "        self.dropout_2 = layers.Dropout(rate=self.dropout_rate)\n",
    "        # Layer normalization\n",
    "        self.norm_2 = layers.LayerNormalization(epsilon=1e-6)\n",
    "        \n",
    "    def call(self, inputs, mask, training):\n",
    "        # Forward pass of the multi-head attention\n",
    "        attention = self.multi_head_attention(inputs,\n",
    "                                              inputs,\n",
    "                                              inputs,\n",
    "                                              mask)\n",
    "        attention = self.dropout_1(attention, training=training)\n",
    "        # Call to the residual connection and layer normalization\n",
    "        attention = self.norm_1(attention + inputs)\n",
    "        # Call to the FC layer\n",
    "        outputs = self.ffn1_relu(attention)\n",
    "        outputs = self.ffn2(outputs)\n",
    "        outputs = self.dropout_2(outputs, training=training)\n",
    "        # Call to residual connection and the layer normalization\n",
    "        outputs = self.norm_2(outputs + attention)\n",
    "        \n",
    "        return outputs"
   ]
  },
  {
   "cell_type": "code",
   "execution_count": 26,
   "metadata": {},
   "outputs": [],
   "source": [
    "class Encoder(layers.Layer):\n",
    "    \n",
    "    def __init__(self,\n",
    "                 n_layers,\n",
    "                 FFN_units,\n",
    "                 n_heads,\n",
    "                 dropout_rate,\n",
    "                 vocab_size,\n",
    "                 d_model,\n",
    "                 name=\"encoder\"):\n",
    "        super(Encoder, self).__init__(name=name)\n",
    "        self.n_layers = n_layers\n",
    "        self.d_model = d_model\n",
    "        # The embedding layer\n",
    "        self.embedding = layers.Embedding(vocab_size, d_model)\n",
    "        # Positional encoding layer\n",
    "        self.pos_encoding = PositionalEncoding()\n",
    "        self.dropout = layers.Dropout(rate=dropout_rate)\n",
    "        # Stack of n layers of multi-head attention and FC\n",
    "        self.enc_layers = [EncoderLayer(FFN_units,\n",
    "                                        n_heads,\n",
    "                                        dropout_rate) \n",
    "                           for _ in range(n_layers)]\n",
    "    \n",
    "    def call(self, inputs, mask, training):\n",
    "        # Get the embedding vectors\n",
    "        outputs = self.embedding(inputs)\n",
    "        # Scale the embeddings by sqrt of d_model\n",
    "        outputs *= tf.math.sqrt(tf.cast(self.d_model, tf.float32))\n",
    "        # Positional encodding\n",
    "        outputs = self.pos_encoding(outputs)\n",
    "        outputs = self.dropout(outputs, training)\n",
    "        # Call the stacked layers\n",
    "        for i in range(self.n_layers):\n",
    "            outputs = self.enc_layers[i](outputs, mask, training)\n",
    "\n",
    "        return outputs"
   ]
  },
  {
   "cell_type": "markdown",
   "metadata": {},
   "source": [
    "# The Decoder\n",
    "\n",
    "The decoder share some components with the encoder but they are used in a different way to take into account the encoder output.\n",
    "\n",
    "- Positional encoding: Similar that the one in the encoder\n",
    "- N=6 identical layers, containing 3 three sublayers. First, the Masked Multi-head attention or **masked causal attention** to prevent positions from attending to subsequent positions, hiding those features that belong to future states of the sequence. \"This masking, combined with fact that the output embeddings are offset by one position, ensures that the predictions for position i can depend only on the known outputs at positions less than i\" [1]. It is implemented setting to −∞ the values corresponding to the forbidden states in the softmax layer of the dot-product attention modules. The second component or **\"encoder-decoder attention\"** performs multi-head attention over the output of the decoder, the Key and Value vectors come from the output of the encoder but the queries come from the previous decoder layer. *This allows every position in the decoder to attend over all positions in the input sequence* [1]. And finally the fully-connected network.\n",
    "\n",
    "- The residual connection and layer normalization around each sub-layer, similar to the encoder.\n",
    "\n",
    "![decoder.png](images/decoder.png)\n",
    "\n",
    "At the end of the N stacked decoders, the **linear layer**, a fully-connected network, transforms the stacked outputs to a much larger vector, the *logits*. The **softmax layer** then turns those scores (logits) into probabilities (all positive, all add up to 1.0). The cell with the highest probability is chosen, and the word associated with it is produced as the output for this time step."
   ]
  },
  {
   "cell_type": "code",
   "execution_count": 27,
   "metadata": {},
   "outputs": [],
   "source": [
    "class DecoderLayer(layers.Layer):\n",
    "    \n",
    "    def __init__(self, FFN_units, n_heads, dropout_rate):\n",
    "        super(DecoderLayer, self).__init__()\n",
    "        self.FFN_units = FFN_units\n",
    "        self.n_heads = n_heads\n",
    "        self.dropout_rate = dropout_rate\n",
    "    \n",
    "    def build(self, input_shape):\n",
    "        self.d_model = input_shape[-1]\n",
    "        \n",
    "        # Self multi head attention, causal attention\n",
    "        self.multi_head_causal_attention = MultiHeadAttention(self.n_heads)\n",
    "        self.dropout_1 = layers.Dropout(rate=self.dropout_rate)\n",
    "        self.norm_1 = layers.LayerNormalization(epsilon=1e-6)\n",
    "        \n",
    "        # Multi head attention, encoder-decoder attention \n",
    "        self.multi_head_enc_dec_attention = MultiHeadAttention(self.n_heads)\n",
    "        self.dropout_2 = layers.Dropout(rate=self.dropout_rate)\n",
    "        self.norm_2 = layers.LayerNormalization(epsilon=1e-6)\n",
    "        \n",
    "        # Feed foward\n",
    "        self.ffn1_relu = layers.Dense(units=self.FFN_units,\n",
    "                                    activation=\"relu\")\n",
    "        self.ffn2 = layers.Dense(units=self.d_model)\n",
    "        self.dropout_3 = layers.Dropout(rate=self.dropout_rate)\n",
    "        self.norm_3 = layers.LayerNormalization(epsilon=1e-6)\n",
    "        \n",
    "    def call(self, inputs, enc_outputs, mask_1, mask_2, training):\n",
    "        # Call the masked causal attention\n",
    "        attention = self.multi_head_causal_attention(inputs,\n",
    "                                                inputs,\n",
    "                                                inputs,\n",
    "                                                mask_1)\n",
    "        attention = self.dropout_1(attention, training)\n",
    "        # Residual connection and layer normalization\n",
    "        attention = self.norm_1(attention + inputs)\n",
    "        # Call the encoder-decoder attention\n",
    "        attention_2 = self.multi_head_enc_dec_attention(attention,\n",
    "                                                  enc_outputs,\n",
    "                                                  enc_outputs,\n",
    "                                                  mask_2)\n",
    "        attention_2 = self.dropout_2(attention_2, training)\n",
    "        # Residual connection and layer normalization\n",
    "        attention_2 = self.norm_2(attention_2 + attention)\n",
    "        # Call the Feed forward\n",
    "        outputs = self.ffn1_relu(attention_2)\n",
    "        outputs = self.ffn2(outputs)\n",
    "        outputs = self.dropout_3(outputs, training)\n",
    "        # Residual connection and layer normalization\n",
    "        outputs = self.norm_3(outputs + attention_2)\n",
    "        \n",
    "        return outputs"
   ]
  },
  {
   "cell_type": "code",
   "execution_count": 28,
   "metadata": {},
   "outputs": [],
   "source": [
    "class Decoder(layers.Layer):\n",
    "    \n",
    "    def __init__(self,\n",
    "                 n_layers,\n",
    "                 FFN_units,\n",
    "                 n_heads,\n",
    "                 dropout_rate,\n",
    "                 vocab_size,\n",
    "                 d_model,\n",
    "                 name=\"decoder\"):\n",
    "        super(Decoder, self).__init__(name=name)\n",
    "        self.d_model = d_model\n",
    "        self.n_layers = n_layers\n",
    "        # Embedding layer\n",
    "        self.embedding = layers.Embedding(vocab_size, d_model)\n",
    "        # Positional encoding layer\n",
    "        self.pos_encoding = PositionalEncoding()\n",
    "        self.dropout = layers.Dropout(rate=dropout_rate)\n",
    "        # Stacked layers of multi-head attention and feed forward\n",
    "        self.dec_layers = [DecoderLayer(FFN_units,\n",
    "                                        n_heads,\n",
    "                                        dropout_rate) \n",
    "                           for _ in range(n_layers)]\n",
    "    \n",
    "    def call(self, inputs, enc_outputs, mask_1, mask_2, training):\n",
    "        # Get the embedding vectors\n",
    "        outputs = self.embedding(inputs)\n",
    "        # Scale by sqrt of d_model\n",
    "        outputs *= tf.math.sqrt(tf.cast(self.d_model, tf.float32))\n",
    "        # Positional encodding\n",
    "        outputs = self.pos_encoding(outputs)\n",
    "        outputs = self.dropout(outputs, training)\n",
    "        # Call the stacked layers\n",
    "        for i in range(self.n_layers):\n",
    "            outputs = self.dec_layers[i](outputs,\n",
    "                                         enc_outputs,\n",
    "                                         mask_1,\n",
    "                                         mask_2,\n",
    "                                         training)\n",
    "\n",
    "        return outputs"
   ]
  },
  {
   "cell_type": "markdown",
   "metadata": {},
   "source": [
    "# Transformer model\n",
    "\n",
    "Once we have defined our components and created the encoder, the decoder and the linear-softmax final layer, we join the pieces to form our model, the Transformer.\n",
    "\n",
    "![transformer_architecture.PNG](images/transformer_architecture.png)"
   ]
  },
  {
   "cell_type": "code",
   "execution_count": 29,
   "metadata": {},
   "outputs": [],
   "source": [
    "class Transformer(tf.keras.Model):\n",
    "    \n",
    "    def __init__(self,\n",
    "                 vocab_size_enc,\n",
    "                 vocab_size_dec,\n",
    "                 d_model,\n",
    "                 n_layers,\n",
    "                 FFN_units,\n",
    "                 n_heads,\n",
    "                 dropout_rate,\n",
    "                 name=\"transformer\"):\n",
    "        super(Transformer, self).__init__(name=name)\n",
    "\n",
    "        # Build the encoder\n",
    "        self.encoder = Encoder(n_layers,\n",
    "                               FFN_units,\n",
    "                               n_heads,\n",
    "                               dropout_rate,\n",
    "                               vocab_size_enc,\n",
    "                               d_model)\n",
    "        # Build the decoder\n",
    "        self.decoder = Decoder(n_layers,\n",
    "                               FFN_units,\n",
    "                               n_heads,\n",
    "                               dropout_rate,\n",
    "                               vocab_size_dec,\n",
    "                               d_model)\n",
    "        # build the linear transformation and softmax function\n",
    "        self.last_linear = layers.Dense(units=vocab_size_dec, name=\"lin_ouput\")\n",
    "    \n",
    "    def create_padding_mask(self, seq): #seq: (batch_size, seq_length)\n",
    "        # Create the mask for padding\n",
    "        mask = tf.cast(tf.math.equal(seq, 0), tf.float32)\n",
    "        return mask[:, tf.newaxis, tf.newaxis, :]\n",
    "\n",
    "    def create_look_ahead_mask(self, seq):\n",
    "        # Create the mask for the causal attention\n",
    "        seq_len = tf.shape(seq)[1]\n",
    "        look_ahead_mask = 1 - tf.linalg.band_part(tf.ones((seq_len, seq_len)), -1, 0)\n",
    "        return look_ahead_mask\n",
    "    \n",
    "    def call(self, enc_inputs, dec_inputs, training):\n",
    "        # Create the padding mask for the encoder\n",
    "        enc_mask = self.create_padding_mask(enc_inputs)\n",
    "        # Create the mask for the causal attention\n",
    "        dec_mask_1 = tf.maximum(\n",
    "            self.create_padding_mask(dec_inputs),\n",
    "            self.create_look_ahead_mask(dec_inputs)\n",
    "        )\n",
    "        # Create the mask for the encoder-decoder attention\n",
    "        dec_mask_2 = self.create_padding_mask(enc_inputs)\n",
    "        # Call the encoder\n",
    "        enc_outputs = self.encoder(enc_inputs, enc_mask, training)\n",
    "        # Call the decoder\n",
    "        dec_outputs = self.decoder(dec_inputs,\n",
    "                                   enc_outputs,\n",
    "                                   dec_mask_1,\n",
    "                                   dec_mask_2,\n",
    "                                   training)\n",
    "        # Call the Linear and Softmax functions\n",
    "        outputs = self.last_linear(dec_outputs)\n",
    "\n",
    "        return outputs"
   ]
  },
  {
   "cell_type": "markdown",
   "metadata": {},
   "source": [
    "It is worth mentioning that we create 3 masks, each of which will allow us:\n",
    "- *Encoder mask*: It is a padding mask to discard the pad tokens from the attention calculation.\n",
    "- *Decoder mask 1*: this mask is a union of the padding mask and the look ahead mask which will help the causal attention to discard the tokens \"in the future\". We take the maximum value between the padding mask and the look ahead one.\n",
    "- *Decoder mask 2*: it is the padding mask and is applied in the encoder-decoder attention layer.\n",
    "\n",
    "As you can see then we call the encoder, the decoder and the final linear-softmax layer to get the predicted output from our Transformer model."
   ]
  },
  {
   "cell_type": "markdown",
   "metadata": {},
   "source": [
    "# Training the Transformer model\n",
    "\n",
    "Now that we have described in detail the components in the paper we are ready to implement them and train a transformer model on a NMT problem. It is a toy problem for educational purposes.\n",
    "\n",
    "We need to create a custom loss function to mask the padding tokens and we define the Adam optimizer described in the paper, with beta1 = 0.9, beta2 = 0.98 and epsilon= 10e-9. And then we create a scheduler to vary the learning rate over the training process according to:\n",
    "\n",
    "$lrate = d_{model}^{-0.5}*min(step\\_num^{-0.5}, step\\_num*warmup\\_steps^{-1.5})$"
   ]
  },
  {
   "cell_type": "code",
   "execution_count": 30,
   "metadata": {},
   "outputs": [],
   "source": [
    "class CustomSchedule(tf.keras.optimizers.schedules.LearningRateSchedule):\n",
    "    \n",
    "    def __init__(self, d_model, warmup_steps=4000):\n",
    "        super(CustomSchedule, self).__init__()\n",
    "        \n",
    "        self.d_model = tf.cast(d_model, tf.float32)\n",
    "        self.warmup_steps = warmup_steps\n",
    "    \n",
    "    def __call__(self, step):\n",
    "        arg1 = tf.math.rsqrt(step)\n",
    "        arg2 = step * (self.warmup_steps**-1.5)\n",
    "        \n",
    "        return tf.math.rsqrt(self.d_model) * tf.math.minimum(arg1, arg2)\n",
    "\n",
    "\n",
    "def loss_function(target, pred):\n",
    "    mask = tf.math.logical_not(tf.math.equal(target, 0))\n",
    "    loss_ = loss_object(target, pred)\n",
    "    \n",
    "    mask = tf.cast(mask, dtype=loss_.dtype)\n",
    "    loss_ *= mask\n",
    "    \n",
    "    return tf.reduce_mean(loss_)"
   ]
  },
  {
   "cell_type": "markdown",
   "metadata": {},
   "source": [
    "And that's all, we have all the necessary elements to train our model using an usual loop for sequence-to-sequence tasks:\n",
    "- For every iteration on the batch generator that produce batch size inputs and outputs\n",
    "- Get the input sequence from 0 to length-1 and the actual outputs from 1 to length, the next word expected at every sequence step.\n",
    "- Call the transformer to get the predictions\n",
    "- Calculate the loss function between the real outputs and the predictions\n",
    "- Apply the gradients to update the weights in the model\n",
    "- Calculate the mean loss and the accuracy for the batch data\n",
    "- Show some results and save the model in every epoch"
   ]
  },
  {
   "cell_type": "markdown",
   "metadata": {},
   "source": [
    "Definition of training step `train_step` and validation step `valid_step` functions which will be called in the training of the model in the `main_train()` function"
   ]
  },
  {
   "cell_type": "code",
   "execution_count": 31,
   "metadata": {},
   "outputs": [],
   "source": [
    "def train_step(enc_inputs, dec_inputs, dec_outputs_real):\n",
    "    with tf.GradientTape() as tape:\n",
    "        # Call the transformer and get the predicted output\n",
    "        predictions = transformer(enc_inputs, dec_inputs, True)\n",
    "        # Calculate the loss\n",
    "        loss = loss_function(dec_outputs_real, predictions)\n",
    "    # Update the weights and optimizer\n",
    "    gradients = tape.gradient(loss, transformer.trainable_variables)\n",
    "    optimizer.apply_gradients(zip(gradients, transformer.trainable_variables))\n",
    "    # Save and store the metrics\n",
    "    train_loss(loss)\n",
    "    train_accuracy(dec_outputs_real, predictions)\n",
    "\n",
    "\n",
    "def valid_step(enc_inputs, dec_inputs, dec_outputs_real):\n",
    "    # Call the transformer and get the predicted output\n",
    "    predictions = transformer(enc_inputs, dec_inputs, True)\n",
    "    t_loss = loss_function(dec_outputs_real, predictions)\n",
    "    # Set the metrics for the test\n",
    "    valid_loss(t_loss)\n",
    "    valid_accuracy(dec_outputs_real, predictions)"
   ]
  },
  {
   "cell_type": "code",
   "execution_count": 32,
   "metadata": {},
   "outputs": [],
   "source": [
    "def main_train(train_dataset, valid_dataset, transformer, n_epochs, print_every=50):\n",
    "  ''' Train the transformer model for n_epochs using the data generator dataset '''\n",
    "  losses = []\n",
    "  accuracies = []\n",
    "  losses_valid = []\n",
    "  accuracies_valid = []\n",
    "  start_train = time.time()\n",
    "  # In every epoch\n",
    "  for epoch in range(n_epochs):\n",
    "    print(\"Starting epoch {}\".format(epoch+1))\n",
    "    start = time.time()\n",
    "    # Reset the losss and accuracy calculations\n",
    "    train_loss.reset_states()\n",
    "    train_accuracy.reset_states()\n",
    "    valid_loss.reset_states()\n",
    "    valid_accuracy.reset_states()\n",
    "    # Get a batch of inputs and targets\n",
    "    for (batch, (enc_inputs, targets)) in enumerate(train_dataset):\n",
    "        # Set the decoder inputs\n",
    "        dec_inputs = targets[:, :-1]\n",
    "        # Set the target outputs, right shifted\n",
    "        dec_outputs_real = targets[:, 1:]\n",
    "        # call of the training function\n",
    "        train_step(enc_inputs, dec_inputs, dec_outputs_real)\n",
    "                \n",
    "        if batch % print_every == 0:\n",
    "            losses.append(train_loss.result())\n",
    "            accuracies.append(train_accuracy.result())\n",
    "            print(\"Epoch {} Batch {} Loss {:.4f} Accuracy {:.4f}\".format(\n",
    "                epoch+1, batch, train_loss.result(), train_accuracy.result()))\n",
    "    \n",
    "    # Checkpoint the model on every epoch        \n",
    "    ckpt_save_path = ckpt_manager.save()\n",
    "    print(\"Saving checkpoint for epoch {} in {}\".format(epoch+1, ckpt_save_path))\n",
    "    \n",
    "    for (batch, (enc_inputs, targets)) in enumerate(valid_dataset):\n",
    "        # Set the decoder inputs\n",
    "        dec_inputs = targets[:, :-1]\n",
    "        # Set the target outputs, right shifted\n",
    "        dec_outputs_real = targets[:, 1:]\n",
    "        # call of the validation function\n",
    "        valid_step(enc_inputs, dec_inputs, dec_outputs_real)\n",
    "\n",
    "        losses_valid.append(valid_loss.result())\n",
    "        accuracies_valid.append(valid_accuracy.result())\n",
    "        \n",
    "    print(\"Epoch {}, Validation Loss {:.4f}, Validation Accuracy {:.4f}\".format(\n",
    "        epoch+1, valid_loss.result(), valid_accuracy.result()))\n",
    "            \n",
    "    print(\"Time for this epoch: {} secs\\n\".format(time.time() - start))\n",
    "  \n",
    "  train_time = time.time() - start_train\n",
    "  s = int(train_time % 60)\n",
    "  m = int(train_time // 60) % 60\n",
    "  h = int(train_time // 60) // 60\n",
    "  print(\"Total training time :  {}:{}:{}\".format(h, m, s))\n",
    "\n",
    "  return losses, accuracies, losses_valid, accuracies_valid"
   ]
  },
  {
   "cell_type": "markdown",
   "metadata": {},
   "source": [
    "Setting the hyperparameters and parameters of the model and training process:"
   ]
  },
  {
   "cell_type": "code",
   "execution_count": 33,
   "metadata": {},
   "outputs": [],
   "source": [
    "# Set hyperparamters for the model\n",
    "D_MODEL = 512\n",
    "N_LAYERS = 4\n",
    "FFN_UNITS = 512\n",
    "N_HEADS = 8\n",
    "DROPOUT_RATE = 0.1"
   ]
  },
  {
   "cell_type": "markdown",
   "metadata": {},
   "source": [
    "Now we define and create all the elements to train the model and evaluate it."
   ]
  },
  {
   "cell_type": "code",
   "execution_count": 34,
   "metadata": {},
   "outputs": [],
   "source": [
    "# Clean the session\n",
    "tf.keras.backend.clear_session()\n",
    "# Create the Transformer model\n",
    "transformer = Transformer(vocab_size_enc=input_vocab_size,\n",
    "                          vocab_size_dec=output_vocab_size,\n",
    "                          d_model=D_MODEL,\n",
    "                          n_layers=N_LAYERS,\n",
    "                          FFN_units=FFN_UNITS,\n",
    "                          n_heads=N_HEADS,\n",
    "                          dropout_rate=DROPOUT_RATE\n",
    "                         )\n",
    "\n",
    "# Define a categorical cross entropy loss\n",
    "loss_object = tf.keras.losses.SparseCategoricalCrossentropy(from_logits=True, reduction=\"none\")\n",
    "\n",
    "# Define a metric to store the mean loss of every epoch\n",
    "train_loss = tf.keras.metrics.Mean(name=\"train_loss\")\n",
    "valid_loss = tf.keras.metrics.Mean(name='valid_loss')\n",
    "# Define a matric to save the accuracy in every epoch\n",
    "train_accuracy = tf.keras.metrics.SparseCategoricalAccuracy(name=\"train_accuracy\")\n",
    "valid_accuracy = tf.keras.metrics.SparseCategoricalAccuracy(name='valid_accuracy')\n",
    "\n",
    "# Create the scheduler for learning rate decay\n",
    "leaning_rate = CustomSchedule(D_MODEL)\n",
    "# Create the Adam optimizer\n",
    "optimizer = tf.keras.optimizers.Adam(leaning_rate,\n",
    "                                     beta_1=0.9,\n",
    "                                     beta_2=0.98,\n",
    "                                     epsilon=1e-9\n",
    "                                    )\n",
    "        "
   ]
  },
  {
   "cell_type": "markdown",
   "metadata": {},
   "source": [
    "It is very useful to checkpoint and save our model during training. Training can take a lot of time and we can restore the model for future training or use."
   ]
  },
  {
   "cell_type": "code",
   "execution_count": 37,
   "metadata": {},
   "outputs": [],
   "source": [
    "# Create the Checkpoint \n",
    "ckpt = tf.train.Checkpoint(transformer=transformer,\n",
    "                           optimizer=optimizer)\n",
    "\n",
    "ckpt_manager = tf.train.CheckpointManager(ckpt, checkpoint_path, max_to_keep=5)\n",
    "\n",
    "if ckpt_manager.latest_checkpoint:\n",
    "    ckpt.restore(ckpt_manager.latest_checkpoint)\n",
    "    print(\"Last checkpoint restored.\")"
   ]
  },
  {
   "cell_type": "markdown",
   "metadata": {},
   "source": [
    "#### Model training"
   ]
  },
  {
   "cell_type": "code",
   "execution_count": 38,
   "metadata": {},
   "outputs": [
    {
     "name": "stdout",
     "output_type": "stream",
     "text": [
      "Starting epoch 1\n",
      "Epoch 1 Batch 0 Loss 1.2951 Accuracy 0.0012\n",
      "Epoch 1 Batch 30 Loss 1.2840 Accuracy 0.0133\n",
      "Epoch 1 Batch 60 Loss 1.2540 Accuracy 0.0164\n",
      "Epoch 1 Batch 90 Loss 1.2132 Accuracy 0.0174\n",
      "Epoch 1 Batch 120 Loss 1.1814 Accuracy 0.0180\n",
      "Epoch 1 Batch 150 Loss 1.1507 Accuracy 0.0188\n",
      "Epoch 1 Batch 180 Loss 1.1153 Accuracy 0.0220\n",
      "Saving checkpoint for epoch 1 in /Users/milkzo/Documents/Jupyter/mini_projet/data_fr_por/checkpoint/ckpt-1\n",
      "Epoch 1, Validation Loss 0.8737, Validation Accuracy 0.0428\n",
      "Time for this epoch: 1946.7228701114655 secs\n",
      "\n",
      "Starting epoch 2\n",
      "Epoch 2 Batch 0 Loss 0.8550 Accuracy 0.0441\n",
      "Epoch 2 Batch 30 Loss 0.8309 Accuracy 0.0438\n",
      "Epoch 2 Batch 60 Loss 0.8024 Accuracy 0.0444\n",
      "Epoch 2 Batch 90 Loss 0.7881 Accuracy 0.0459\n",
      "Epoch 2 Batch 120 Loss 0.7712 Accuracy 0.0473\n",
      "Epoch 2 Batch 150 Loss 0.7567 Accuracy 0.0484\n",
      "Epoch 2 Batch 180 Loss 0.7480 Accuracy 0.0496\n",
      "Saving checkpoint for epoch 2 in /Users/milkzo/Documents/Jupyter/mini_projet/data_fr_por/checkpoint/ckpt-2\n",
      "Epoch 2, Validation Loss 0.6974, Validation Accuracy 0.0577\n",
      "Time for this epoch: 1928.773758172989 secs\n",
      "\n",
      "Starting epoch 3\n",
      "Epoch 3 Batch 0 Loss 0.5957 Accuracy 0.0551\n",
      "Epoch 3 Batch 30 Loss 0.6581 Accuracy 0.0569\n",
      "Epoch 3 Batch 60 Loss 0.6515 Accuracy 0.0579\n",
      "Epoch 3 Batch 90 Loss 0.6464 Accuracy 0.0588\n",
      "Epoch 3 Batch 120 Loss 0.6466 Accuracy 0.0593\n",
      "Epoch 3 Batch 150 Loss 0.6434 Accuracy 0.0598\n",
      "Epoch 3 Batch 180 Loss 0.6402 Accuracy 0.0603\n",
      "Saving checkpoint for epoch 3 in /Users/milkzo/Documents/Jupyter/mini_projet/data_fr_por/checkpoint/ckpt-3\n",
      "Epoch 3, Validation Loss 0.6314, Validation Accuracy 0.0637\n",
      "Time for this epoch: 1913.9993450641632 secs\n",
      "\n",
      "Starting epoch 4\n",
      "Epoch 4 Batch 0 Loss 0.6109 Accuracy 0.0631\n",
      "Epoch 4 Batch 30 Loss 0.6009 Accuracy 0.0642\n",
      "Epoch 4 Batch 60 Loss 0.5869 Accuracy 0.0646\n",
      "Epoch 4 Batch 90 Loss 0.5848 Accuracy 0.0651\n",
      "Epoch 4 Batch 120 Loss 0.5809 Accuracy 0.0655\n",
      "Epoch 4 Batch 150 Loss 0.5759 Accuracy 0.0657\n",
      "Epoch 4 Batch 180 Loss 0.5705 Accuracy 0.0661\n",
      "Saving checkpoint for epoch 4 in /Users/milkzo/Documents/Jupyter/mini_projet/data_fr_por/checkpoint/ckpt-4\n",
      "Epoch 4, Validation Loss 0.5882, Validation Accuracy 0.0669\n",
      "Time for this epoch: 1911.339514017105 secs\n",
      "\n",
      "Starting epoch 5\n",
      "Epoch 5 Batch 0 Loss 0.5572 Accuracy 0.0671\n",
      "Epoch 5 Batch 30 Loss 0.5198 Accuracy 0.0696\n",
      "Epoch 5 Batch 60 Loss 0.5118 Accuracy 0.0707\n",
      "Epoch 5 Batch 90 Loss 0.5147 Accuracy 0.0707\n",
      "Epoch 5 Batch 120 Loss 0.5131 Accuracy 0.0707\n",
      "Epoch 5 Batch 150 Loss 0.5105 Accuracy 0.0708\n",
      "Epoch 5 Batch 180 Loss 0.5078 Accuracy 0.0711\n",
      "Saving checkpoint for epoch 5 in /Users/milkzo/Documents/Jupyter/mini_projet/data_fr_por/checkpoint/ckpt-5\n",
      "Epoch 5, Validation Loss 0.5423, Validation Accuracy 0.0725\n",
      "Time for this epoch: 1918.6190030574799 secs\n",
      "\n",
      "Starting epoch 6\n",
      "Epoch 6 Batch 0 Loss 0.4254 Accuracy 0.0735\n",
      "Epoch 6 Batch 30 Loss 0.4595 Accuracy 0.0754\n",
      "Epoch 6 Batch 60 Loss 0.4610 Accuracy 0.0757\n",
      "Epoch 6 Batch 90 Loss 0.4606 Accuracy 0.0762\n",
      "Epoch 6 Batch 120 Loss 0.4566 Accuracy 0.0764\n",
      "Epoch 6 Batch 150 Loss 0.4539 Accuracy 0.0766\n",
      "Epoch 6 Batch 180 Loss 0.4527 Accuracy 0.0769\n",
      "Saving checkpoint for epoch 6 in /Users/milkzo/Documents/Jupyter/mini_projet/data_fr_por/checkpoint/ckpt-6\n",
      "Epoch 6, Validation Loss 0.5024, Validation Accuracy 0.0775\n",
      "Time for this epoch: 1917.522259235382 secs\n",
      "\n",
      "Starting epoch 7\n",
      "Epoch 7 Batch 0 Loss 0.4463 Accuracy 0.0827\n",
      "Epoch 7 Batch 30 Loss 0.3940 Accuracy 0.0826\n",
      "Epoch 7 Batch 60 Loss 0.3931 Accuracy 0.0830\n",
      "Epoch 7 Batch 90 Loss 0.3945 Accuracy 0.0834\n",
      "Epoch 7 Batch 120 Loss 0.3914 Accuracy 0.0837\n",
      "Epoch 7 Batch 150 Loss 0.3916 Accuracy 0.0840\n",
      "Epoch 7 Batch 180 Loss 0.3924 Accuracy 0.0842\n",
      "Saving checkpoint for epoch 7 in /Users/milkzo/Documents/Jupyter/mini_projet/data_fr_por/checkpoint/ckpt-7\n",
      "Epoch 7, Validation Loss 0.4612, Validation Accuracy 0.0832\n",
      "Time for this epoch: 1914.590138912201 secs\n",
      "\n",
      "Starting epoch 8\n",
      "Epoch 8 Batch 0 Loss 0.3549 Accuracy 0.0901\n",
      "Epoch 8 Batch 30 Loss 0.3380 Accuracy 0.0908\n",
      "Epoch 8 Batch 60 Loss 0.3358 Accuracy 0.0911\n",
      "Epoch 8 Batch 90 Loss 0.3368 Accuracy 0.0914\n",
      "Epoch 8 Batch 120 Loss 0.3373 Accuracy 0.0912\n",
      "Epoch 8 Batch 150 Loss 0.3375 Accuracy 0.0913\n",
      "Epoch 8 Batch 180 Loss 0.3369 Accuracy 0.0915\n",
      "Saving checkpoint for epoch 8 in /Users/milkzo/Documents/Jupyter/mini_projet/data_fr_por/checkpoint/ckpt-8\n",
      "Epoch 8, Validation Loss 0.4164, Validation Accuracy 0.0882\n",
      "Time for this epoch: 1909.054531097412 secs\n",
      "\n",
      "Starting epoch 9\n",
      "Epoch 9 Batch 0 Loss 0.2554 Accuracy 0.0996\n",
      "Epoch 9 Batch 30 Loss 0.2937 Accuracy 0.0990\n",
      "Epoch 9 Batch 60 Loss 0.2882 Accuracy 0.0984\n",
      "Epoch 9 Batch 90 Loss 0.2845 Accuracy 0.0983\n",
      "Epoch 9 Batch 120 Loss 0.2859 Accuracy 0.0984\n",
      "Epoch 9 Batch 150 Loss 0.2861 Accuracy 0.0987\n",
      "Epoch 9 Batch 180 Loss 0.2864 Accuracy 0.0987\n",
      "Saving checkpoint for epoch 9 in /Users/milkzo/Documents/Jupyter/mini_projet/data_fr_por/checkpoint/ckpt-9\n",
      "Epoch 9, Validation Loss 0.3934, Validation Accuracy 0.0916\n",
      "Time for this epoch: 1913.1333889961243 secs\n",
      "\n",
      "Starting epoch 10\n",
      "Epoch 10 Batch 0 Loss 0.2516 Accuracy 0.1039\n",
      "Epoch 10 Batch 30 Loss 0.2409 Accuracy 0.1054\n",
      "Epoch 10 Batch 60 Loss 0.2406 Accuracy 0.1048\n",
      "Epoch 10 Batch 90 Loss 0.2417 Accuracy 0.1048\n",
      "Epoch 10 Batch 120 Loss 0.2413 Accuracy 0.1051\n",
      "Epoch 10 Batch 150 Loss 0.2418 Accuracy 0.1049\n",
      "Epoch 10 Batch 180 Loss 0.2421 Accuracy 0.1048\n",
      "Saving checkpoint for epoch 10 in /Users/milkzo/Documents/Jupyter/mini_projet/data_fr_por/checkpoint/ckpt-10\n",
      "Epoch 10, Validation Loss 0.3675, Validation Accuracy 0.0959\n",
      "Time for this epoch: 1920.305608034134 secs\n",
      "\n",
      "Total training time :  5:19:54\n"
     ]
    }
   ],
   "source": [
    "# Train the model\n",
    "losses, accuracies, losses_valid, accuracies_valid = main_train(train_dataset,\n",
    "                                                                valid_dataset,\n",
    "                                                                transformer,\n",
    "                                                                EPOCHS,\n",
    "                                                                30\n",
    "                                                               )"
   ]
  },
  {
   "cell_type": "markdown",
   "metadata": {},
   "source": [
    "## Show some results from training\n"
   ]
  },
  {
   "cell_type": "code",
   "execution_count": 39,
   "metadata": {},
   "outputs": [
    {
     "data": {
      "image/png": "[encoded data removed]",
      "text/plain": [
       "<Figure size 2160x1440 with 4 Axes>"
      ]
     },
     "metadata": {},
     "output_type": "display_data"
    }
   ],
   "source": [
    "fig, ax = plt.subplots(2, 2, figsize=(30, 20))\n",
    "# Training Loss\n",
    "ax[0][0].plot(losses, label='loss')\n",
    "ax[0][0].set_title('Training Loss')\n",
    "ax[0][0].legend()\n",
    "\n",
    "# Training accuracies\n",
    "ax[0][1].plot(accuracies, label='acc')\n",
    "ax[0][1].set_title('Training Accuracy')\n",
    "ax[0][1].legend()\n",
    "\n",
    "# Validation loss\n",
    "ax[1][0].plot(losses_valid, label='loss', c='r')\n",
    "ax[1][0].set_title('Validation Loss')\n",
    "ax[1][0].legend()\n",
    "\n",
    "# Validation accuracies\n",
    "ax[1][1].plot(accuracies_valid, label='acc', c='r')\n",
    "ax[1][1].set_title('Validation Accuracy')\n",
    "ax[1][1].legend()\n",
    "\n",
    "plt.show()\n"
   ]
  },
  {
   "cell_type": "code",
   "execution_count": 40,
   "metadata": {},
   "outputs": [
    {
     "data": {
      "image/png": "[encoded data removed]",
      "text/plain": [
       "<Figure size 432x288 with 1 Axes>"
      ]
     },
     "metadata": {},
     "output_type": "display_data"
    },
    {
     "data": {
      "image/png": "[encoded data removed]",
      "text/plain": [
       "<Figure size 432x288 with 1 Axes>"
      ]
     },
     "metadata": {},
     "output_type": "display_data"
    }
   ],
   "source": [
    "plt.plot(losses, label=\"Train\")\n",
    "plt.plot(losses_valid, label=\"Val\")\n",
    "plt.legend(loc='upper left')\n",
    "plt.title(\"Loss\")\n",
    "plt.show()\n",
    "\n",
    "plt.plot(accuracies, label=\"Train\")\n",
    "plt.plot(accuracies_valid, label=\"Val\")\n",
    "plt.legend(loc='upper left')\n",
    "plt.title(\"Accuracy\")\n",
    "plt.show()"
   ]
  },
  {
   "cell_type": "markdown",
   "metadata": {},
   "source": [
    "### Save the whole model"
   ]
  },
  {
   "cell_type": "code",
   "execution_count": 41,
   "metadata": {},
   "outputs": [
    {
     "name": "stdout",
     "output_type": "stream",
     "text": [
      "Saving the model ....\n",
      "Model saved.\n",
      "\n",
      "Saving the model parameters ...\n",
      "Model parameters saved.\n",
      "\n",
      "Saving the train data and valid data ...\n",
      "Train data and valid data saved.\n",
      "\n",
      "Saving the tokenizers with the vocabularies ....\n",
      "Tokenizers with the vocabularies saved.\n",
      "\n"
     ]
    }
   ],
   "source": [
    "# Save the model as tensorflow format\n",
    "print('Saving the model ....')\n",
    "transformer.save_weights(model_path + '/transformer', overwrite=True, save_format='tf')\n",
    "print('Model saved.\\n')\n",
    "\n",
    "\n",
    "# Save the parameters used to construct the model\n",
    "print(\"Saving the model parameters ...\")\n",
    "model_info_path = DATA_PATH + '/model_info.pkl'\n",
    "with open(model_info_path, 'wb') as f:\n",
    "    model_info = {\n",
    "        'vocab_size_enc': input_vocab_size,\n",
    "        'vocab_size_dec': output_vocab_size,\n",
    "        'input_max_length': input_max_length,\n",
    "        'output_max_length': output_max_length,\n",
    "        'sos_token_input': sos_token_input,\n",
    "        'eos_token_input': eos_token_input,\n",
    "        'sos_token_output': sos_token_output,\n",
    "        'eos_token_output': eos_token_output,\n",
    "        'n_layers': N_LAYERS,\n",
    "        'd_model': D_MODEL,\n",
    "        'ffn_dim': FFN_UNITS,\n",
    "        'n_heads': N_HEADS,\n",
    "        'drop_rate': DROPOUT_RATE\n",
    "    }\n",
    "    pickle.dump(model_info, f)\n",
    "print('Model parameters saved.\\n')\n",
    "\n",
    "\n",
    "# Save the training and validation data\n",
    "print(\"Saving the train data and valid data ...\")\n",
    "train_valid_data_path = DATA_PATH + '/train_valid_data.pkl'\n",
    "with open(train_valid_data_path, 'wb') as f:\n",
    "    train_valid_data = {\n",
    "        'encoder_inputs_train': encoder_inputs,\n",
    "        'decoder_outputs_train': decoder_outputs,\n",
    "        'encoder_inputs_valid': encoder_inputs_valid,\n",
    "        'decoder_outputs_valid': decoder_outputs_valid,\n",
    "    }\n",
    "    pickle.dump(train_valid_data, f)\n",
    "print(\"Train data and valid data saved.\\n\")\n",
    "\n",
    "\n",
    "# Save the tokenizers with the vocabularies\n",
    "print('Saving the tokenizers with the vocabularies ....')\n",
    "vocabulary_in = DATA_PATH + '/tokenizer_inputs.pkl'\n",
    "with open(vocabulary_in, 'wb') as f:\n",
    "    pickle.dump(tokenizer_inputs, f)\n",
    "\n",
    "vocabulary_out = DATA_PATH + '/tokenizer_outputs.pkl'\n",
    "with open(vocabulary_out, 'wb') as f:\n",
    "    pickle.dump(tokenizer_outputs, f)\n",
    "print('Tokenizers with the vocabularies saved.\\n')\n"
   ]
  },
  {
   "cell_type": "markdown",
   "metadata": {},
   "source": [
    "### Loading the saved model"
   ]
  },
  {
   "cell_type": "code",
   "execution_count": 42,
   "metadata": {},
   "outputs": [
    {
     "name": "stdout",
     "output_type": "stream",
     "text": [
      "Loading Model parameters ...\n",
      "Model parameters loaded.\n",
      "\n",
      "Create an instance of the Transforer model and load the saved model ...\n",
      "Model loaded.\n",
      "\n",
      "loading train data and valid data ...\n",
      "Train data and valid data loaded.\n",
      "\n",
      "Loading the parameters tokenizers ....\n",
      "Tokenizers loaded.\n",
      "\n"
     ]
    }
   ],
   "source": [
    "# Read the parameters model\n",
    "print('Loading Model parameters ...')\n",
    "model_info_path = DATA_PATH + '/model_info.pkl'\n",
    "with open(model_info_path, 'rb') as f:\n",
    "    model_info = pickle.load(f)\n",
    "print('Model parameters loaded.\\n')\n",
    "\n",
    "sos_token_input = model_info['sos_token_input']\n",
    "eos_token_input = model_info['eos_token_input']\n",
    "sos_token_output = model_info['sos_token_output']\n",
    "eos_token_output = model_info['eos_token_output']\n",
    "input_max_length = model_info['input_max_length']\n",
    "output_max_length = model_info['output_max_length']\n",
    "\n",
    "\n",
    "# Create an instance of the Transforer model and load the saved model\n",
    "print('Create an instance of the Transforer model and load the saved model ...')\n",
    "transformer_model_loaded = Transformer(vocab_size_enc=model_info['vocab_size_enc'],\n",
    "                                      vocab_size_dec=model_info['vocab_size_dec'],\n",
    "                                      d_model=model_info['d_model'],\n",
    "                                      n_layers=model_info['n_layers'],\n",
    "                                      FFN_units=model_info['ffn_dim'],\n",
    "                                      n_heads=model_info['n_heads'],\n",
    "                                      dropout_rate=model_info['drop_rate']\n",
    "                                      )\n",
    "\n",
    "# Load the saved model\n",
    "transformer_model_loaded.load_weights(model_path + '/transformer')\n",
    "print('Model loaded.\\n')\n",
    "\n",
    "\n",
    "# Read the training and validation data\n",
    "print(\"loading train data and valid data ...\")\n",
    "train_valid_data_path = DATA_PATH + '/train_valid_data.pkl'\n",
    "with open(train_valid_data_path, 'rb') as f:\n",
    "    train_valid_data = pickle.load(f)\n",
    "\n",
    "encoder_inputs = train_valid_data['encoder_inputs_train']\n",
    "decoder_outputs = train_valid_data['decoder_outputs_train']\n",
    "encoder_inputs_valid = train_valid_data['encoder_inputs_valid']\n",
    "decoder_outputs_valid = train_valid_data['decoder_outputs_valid']\n",
    "print(\"Train data and valid data loaded.\\n\")\n",
    "\n",
    "\n",
    "# Read the parameters tokenizers with the vocabularies\n",
    "print('Loading the parameters tokenizers ....')\n",
    "input_vocab_file = DATA_PATH + '/tokenizer_inputs.pkl'\n",
    "with open(input_vocab_file, 'rb') as f:\n",
    "    tokenizer_inputs = pickle.load(f)\n",
    "\n",
    "output_vocab_file = DATA_PATH + '/tokenizer_outputs.pkl'\n",
    "with open(output_vocab_file, 'rb') as f:\n",
    "    tokenizer_outputs = pickle.load(f)\n",
    "    \n",
    "print('Tokenizers loaded.\\n')\n"
   ]
  },
  {
   "cell_type": "markdown",
   "metadata": {},
   "source": [
    "# Make predictions\n",
    "\n",
    "We have seen the scores obtained after training but what we are interested in making predictions and see how the model works with new sentences. The predict function will input a tokenize sentence to the model and return the predicted new sentence. \n",
    "- Tokenize the input sentence to a sequence of tokens\n",
    "- Set the initial output sequence to the SOS token\n",
    "- Until we reach the max length or the eos token is returned by the model\n",
    "- Get the next word predicted. The model returns the logits, remember that the softmax function is applied in the loss calculation.\n",
    "- Get the index in the vocabulary of the word with the highest probability\n",
    "- Concat the next word predicted to the output sequence\n"
   ]
  },
  {
   "cell_type": "markdown",
   "metadata": {},
   "source": [
    "We have a function `predict_from_seq()` which receives a sequence of integers and returns the predicted sentence. It will be used to predict some sequences of the validation data and compare them to the expected targets.\n",
    "Another function `predict()` which receives a sentence, encodes it in a sequence of integers and called `predict_from_seq()` to give the predicted result."
   ]
  },
  {
   "cell_type": "code",
   "execution_count": 43,
   "metadata": {},
   "outputs": [],
   "source": [
    "# map an integer to a word\n",
    "def word_for_id(integer, tokenizer):\n",
    "    for word, index in tokenizer.word_index.items():\n",
    "        if index == integer:\n",
    "            return word\n",
    "    return None\n",
    "\n",
    "# generate target sentence corresponding to the given sequence\n",
    "def seq2text(tokenizer, sequences):\n",
    "    target = list()\n",
    "    for i in sequences:\n",
    "        word = word_for_id(i, tokenizer)\n",
    "        if word is None:\n",
    "            continue\n",
    "        target.append(word)\n",
    "        \n",
    "    return ' '.join(target)\n",
    "\n",
    "# clean the sentence and encode it in sequence\n",
    "def encode_sentence(input_sentence, tokenizer, max_length, sos_token, eos_token):\n",
    "    inp_sentence_cleaned = clean_preprocess_text(input_sentence.split('\\n'))\n",
    "    inp_sequence = encode_sequences(inp_sentence_cleaned, tokenizer, max_length, sos_token, eos_token)\n",
    "    # inp_sequence shape: (1, max_length) => [[sequence]]\n",
    "    return inp_sequence[0]\n",
    "    "
   ]
  },
  {
   "cell_type": "code",
   "execution_count": 44,
   "metadata": {},
   "outputs": [],
   "source": [
    "# Transform the sequence of tokens to a sentence\n",
    "def predict_from_seq(inp_sequence, output_max_length):\n",
    "    # Reshape the input\n",
    "    enc_input = tf.expand_dims(inp_sequence, axis=0)\n",
    "    # Set the initial output sentence to sos\n",
    "    out_sentence = sos_token_output\n",
    "    # Reshape the output\n",
    "    output = tf.expand_dims(out_sentence, axis=0)\n",
    "\n",
    "    # For max target len tokens\n",
    "    for _ in range(output_max_length):\n",
    "        # Call the transformer and get the logits \n",
    "        predictions = transformer_model_loaded(enc_input, output, False) #(1, seq_length, VOCAB_SIZE_OUTPUT)\n",
    "        # Extract the logists of the next word\n",
    "        prediction = predictions[:, -1:, :]\n",
    "        # The highest probability is taken\n",
    "        predicted_id = tf.cast(tf.argmax(prediction, axis=-1), tf.int32)\n",
    "        # Check if it is the eos token\n",
    "        if predicted_id == eos_token_output:\n",
    "            break\n",
    "        # Concat the predicted word to the output sequence\n",
    "        output = tf.concat([output, predicted_id], axis=-1)\n",
    "    \n",
    "    output_final = tf.squeeze(output, axis=0).numpy()\n",
    "    \n",
    "    predicted_sentence = seq2text(tokenizer_outputs, [i for i in output_final])\n",
    "\n",
    "    return predicted_sentence\n"
   ]
  },
  {
   "cell_type": "code",
   "execution_count": 45,
   "metadata": {},
   "outputs": [],
   "source": [
    "def predict(inp_sentence, tokenizer_in, input_max_length, output_max_length):\n",
    "    # generate sequence corresponding to the given sentence\n",
    "    inp_sequence = encode_sentence(inp_sentence, tokenizer_in, input_max_length, sos_token_input, eos_token_input)\n",
    "    # return predicted sentence\n",
    "    return predict_from_seq(inp_sequence, output_max_length)\n"
   ]
  },
  {
   "cell_type": "markdown",
   "metadata": {},
   "source": [
    "And finally our last function receives a source sentence, calls the transformer to translate it and displays the result."
   ]
  },
  {
   "cell_type": "code",
   "execution_count": 46,
   "metadata": {},
   "outputs": [],
   "source": [
    "def translate(sentence):\n",
    "    # Get the predicted sentence for the input sentence\n",
    "    return predict(sentence, tokenizer_inputs, input_max_length, output_max_length)\n"
   ]
  },
  {
   "cell_type": "markdown",
   "metadata": {},
   "source": [
    "Predict a few first sequences of validation data and compare them to expected targets."
   ]
  },
  {
   "cell_type": "code",
   "execution_count": 47,
   "metadata": {},
   "outputs": [
    {
     "name": "stdout",
     "output_type": "stream",
     "text": [
      "Review: apres la fete de noel nous sommes tous alles chanter .\n",
      "Original summary: depois da festa de natal todos nos fomos cantar .\n",
      "Predicted summary: a melhor de natal para o dia estamos em todos .\n",
      "\n",
      "\n",
      "Review: nous etions des ennemis .\n",
      "Original summary: nos eramos inimigos .\n",
      "Predicted summary: nos estavamos estavamos inimigos .\n",
      "\n",
      "\n",
      "Review: tom a ete embarrasse .\n",
      "Original summary: tom estava envergonhado .\n",
      "Predicted summary: tom foi atrasado .\n",
      "\n",
      "\n",
      "Review: ce n est pas la fin de l histoire .\n",
      "Original summary: nao e o fim da historia .\n",
      "Predicted summary: nao e a historia da historia .\n",
      "\n",
      "\n",
      "Review: j ai essaye .\n",
      "Original summary: eu tentei .\n",
      "Predicted summary: eu tentei .\n",
      "\n",
      "\n",
      "Review: laisse moi t aider !\n",
      "Original summary: deixe me ajuda lo !\n",
      "Predicted summary: deixe me ajudar !\n",
      "\n",
      "\n",
      "Review: j etais en train de penser a boston .\n",
      "Original summary: eu estava pensando em boston .\n",
      "Predicted summary: eu estava falando em boston .\n",
      "\n",
      "\n",
      "Review: marie est ma demi sur .\n",
      "Original summary: marie e minha meia irma .\n",
      "Predicted summary: marie e minha irma .\n",
      "\n",
      "\n",
      "Review: tu es direct .\n",
      "Original summary: voce e direto .\n",
      "Predicted summary: voce esta certo .\n",
      "\n",
      "\n",
      "Review: pourquoi n ecoutez vous pas ?\n",
      "Original summary: por que voce nao loll ?\n",
      "Predicted summary: por que voce nao quer ?\n",
      "\n",
      "\n"
     ]
    }
   ],
   "source": [
    "for i in range(10):\n",
    "  print(\"Review:\", seq2text(tokenizer_inputs, encoder_inputs_valid[i]))\n",
    "  print(\"Original summary:\", seq2text(tokenizer_outputs, decoder_outputs_valid[i]))\n",
    "  print(\"Predicted summary:\", predict_from_seq(encoder_inputs_valid[i], output_max_length))\n",
    "  print(\"\\n\")"
   ]
  },
  {
   "cell_type": "markdown",
   "metadata": {},
   "source": [
    "Next, let's predict our own new phrases that we type ourselves:"
   ]
  },
  {
   "cell_type": "code",
   "execution_count": 48,
   "metadata": {},
   "outputs": [
    {
     "name": "stdout",
     "output_type": "stream",
     "text": [
      "Input sentence: On va tester notre modèle !\n",
      "Output sentence: nos vamos deixar nossa mesa !\n"
     ]
    }
   ],
   "source": [
    "#Show some translations\n",
    "sentence = \"On va tester notre modèle !\"\n",
    "print(\"Input sentence: {}\".format(sentence))\n",
    "predicted_sentence = translate(sentence)\n",
    "print(\"Output sentence: {}\".format(predicted_sentence))"
   ]
  },
  {
   "cell_type": "code",
   "execution_count": 49,
   "metadata": {},
   "outputs": [
    {
     "name": "stdout",
     "output_type": "stream",
     "text": [
      "Input sentence: C'est un exemple de phrase.\n",
      "Output sentence: e um exemplo de lutar .\n"
     ]
    }
   ],
   "source": [
    "#Show some translations\n",
    "sentence = \"C'est un exemple de phrase.\"\n",
    "print(\"Input sentence: {}\".format(sentence))\n",
    "predicted_sentence = translate(sentence)\n",
    "print(\"Output sentence: {}\".format(predicted_sentence))"
   ]
  },
  {
   "cell_type": "code",
   "execution_count": 50,
   "metadata": {},
   "outputs": [
    {
     "name": "stdout",
     "output_type": "stream",
     "text": [
      "Input sentence: Pourquoi travaillez-vous ?\n",
      "Output sentence: por que voce esta procurando ?\n"
     ]
    }
   ],
   "source": [
    "#Show some translations\n",
    "sentence = \"Pourquoi travaillez-vous ?\"\n",
    "print(\"Input sentence: {}\".format(sentence))\n",
    "predicted_sentence = translate(sentence)\n",
    "print(\"Output sentence: {}\".format(predicted_sentence))"
   ]
  },
  {
   "cell_type": "code",
   "execution_count": 51,
   "metadata": {},
   "outputs": [
    {
     "name": "stdout",
     "output_type": "stream",
     "text": [
      "Input sentence: Il nous reste encore quelques semaines.\n",
      "Output sentence: nos ainda vamos alguns dias .\n"
     ]
    }
   ],
   "source": [
    "#Show some translations\n",
    "sentence = \"Il nous reste encore quelques semaines.\"\n",
    "print(\"Input sentence: {}\".format(sentence))\n",
    "predicted_sentence = translate(sentence)\n",
    "print(\"Output sentence: {}\".format(predicted_sentence))"
   ]
  },
  {
   "cell_type": "code",
   "execution_count": 52,
   "metadata": {},
   "outputs": [
    {
     "name": "stdout",
     "output_type": "stream",
     "text": [
      "Input sentence: On a un mini-projet à rendre.\n",
      "Output sentence: nos temos um projeto para ir .\n"
     ]
    }
   ],
   "source": [
    "#Show some translations\n",
    "sentence = \"On a un mini-projet à rendre.\"\n",
    "print(\"Input sentence: {}\".format(sentence))\n",
    "predicted_sentence = translate(sentence)\n",
    "print(\"Output sentence: {}\".format(predicted_sentence))"
   ]
  },
  {
   "cell_type": "code",
   "execution_count": 53,
   "metadata": {},
   "outputs": [
    {
     "name": "stdout",
     "output_type": "stream",
     "text": [
      "Input sentence: J'ai conduit la voiture dans le garage.\n",
      "Output sentence: eu peguei o carro no carro .\n"
     ]
    }
   ],
   "source": [
    "#Show some translations\n",
    "sentence = \"J'ai conduit la voiture dans le garage.\"\n",
    "print(\"Input sentence: {}\".format(sentence))\n",
    "predicted_sentence = translate(sentence)\n",
    "print(\"Output sentence: {}\".format(predicted_sentence))"
   ]
  },
  {
   "cell_type": "code",
   "execution_count": 54,
   "metadata": {},
   "outputs": [
    {
     "name": "stdout",
     "output_type": "stream",
     "text": [
      "Input sentence: Il était toujours prêt à aider ceux dans le besoin.\n",
      "Output sentence: ele estava pronto para ajudar os dias .\n"
     ]
    }
   ],
   "source": [
    "#Show some translations\n",
    "sentence = \"Il était toujours prêt à aider ceux dans le besoin.\"\n",
    "print(\"Input sentence: {}\".format(sentence))\n",
    "predicted_sentence = translate(sentence)\n",
    "print(\"Output sentence: {}\".format(predicted_sentence))"
   ]
  },
  {
   "cell_type": "code",
   "execution_count": 55,
   "metadata": {},
   "outputs": [
    {
     "name": "stdout",
     "output_type": "stream",
     "text": [
      "Input sentence: Êtes-vous encore contrariée à propos de ce qui s'est passé ?\n",
      "Output sentence: voce ainda esta falando com o que aconteceu ?\n"
     ]
    }
   ],
   "source": [
    "#Show some translations\n",
    "sentence = \"Êtes-vous encore contrariée à propos de ce qui s'est passé ?\"\n",
    "print(\"Input sentence: {}\".format(sentence))\n",
    "predicted_sentence = translate(sentence)\n",
    "print(\"Output sentence: {}\".format(predicted_sentence))"
   ]
  },
  {
   "cell_type": "code",
   "execution_count": null,
   "metadata": {},
   "outputs": [],
   "source": []
  }
 ],
 "metadata": {
  "kernelspec": {
   "display_name": "Python 3",
   "language": "python",
   "name": "python3"
  },
  "language_info": {
   "codemirror_mode": {
    "name": "ipython",
    "version": 3
   },
   "file_extension": ".py",
   "mimetype": "text/x-python",
   "name": "python",
   "nbconvert_exporter": "python",
   "pygments_lexer": "ipython3",
   "version": "3.6.9"
  }
 },
 "nbformat": 4,
 "nbformat_minor": 5
}
